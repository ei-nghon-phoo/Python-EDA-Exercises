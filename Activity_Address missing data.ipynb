{
 "cells": [
  {
   "cell_type": "markdown",
   "metadata": {
    "id": "1WD1hC5MTRMS"
   },
   "source": [
    "# Activity: Address missing data "
   ]
  },
  {
   "cell_type": "markdown",
   "metadata": {
    "id": "ee31943b-274e-4c28-bce6-155cb6f4c334"
   },
   "source": [
    "## Introduction\n",
    "\n",
    "The datasets that data professionals use to solve problems typically contain missing values, which must be dealt with in order to achieve clean, useful data. This is particularly crucial in exploratory data analysis (EDA). In this activity, you will learn how to address missing data. \n",
    "\n",
    "You are a financial data consultant, and an investor has tasked your team with identifying new business opportunities. To help them decide which future companies to invest in, you will provide a list of current businesses valued at more than $1 billion. These are sometimes referred to as \"unicorns.\" Your client will use this information to learn about profitable businesses in general.\n",
    "\n",
    "The investor has asked you to provide them with the following data: \n",
    "- Companies in the `hardware` industry based in either `Beijing`, `San Francisco`, or `London` \n",
    "- Companies in the `artificial intelligence` industry based in `London`\n",
    "-  A list of the top 20 countries sorted by sum of company valuations in each country, excluding `United States`, `China`, `India`, and `United Kingdom`\n",
    "- A global valuation map of all countries with companies that joined the list after 2020\n",
    "- A global valuation map of all countries except `United States`, `China`, `India`, and `United Kingdom` (a separate map for Europe is also required)\n",
    "\n",
    "Your dataset includes a list of businesses and data points, such as the year they were founded; their industry; and their city, country, and continent. "
   ]
  },
  {
   "cell_type": "markdown",
   "metadata": {
    "id": "4bb9630e-b940-4835-a389-d39def1fa848"
   },
   "source": [
    "## **Step 1: Imports** "
   ]
  },
  {
   "cell_type": "markdown",
   "metadata": {
    "id": "aefe3c18"
   },
   "source": [
    "### Import libraries"
   ]
  },
  {
   "cell_type": "markdown",
   "metadata": {
    "id": "bc180686-4ae2-47ea-a292-3588ac60a820"
   },
   "source": [
    "Import the following relevant Python libraries:\n",
    "* `numpy`\n",
    "* `pandas`\n",
    "* `matplotlib.pyplot`\n",
    "* `plotly.express`\n",
    "* `seaborn`\n",
    "\n"
   ]
  },
  {
   "cell_type": "code",
   "execution_count": 1,
   "metadata": {
    "id": "8e7f1f2c-bbcc-4f3c-b927-b090ee8334c4"
   },
   "outputs": [],
   "source": [
    "# Import libraries and modules.\n",
    "\n",
    "### YOUR CODE HERE ###\n",
    "import pandas as pd\n",
    "import numpy as np\n",
    "import seaborn as sns\n",
    "import matplotlib.pyplot as plt"
   ]
  },
  {
   "cell_type": "markdown",
   "metadata": {
    "id": "1ecba4b6"
   },
   "source": [
    "### Load the dataset\n"
   ]
  },
  {
   "cell_type": "markdown",
   "metadata": {
    "id": "7d29c6bd-f194-46bb-b794-56dc20130473"
   },
   "source": [
    "The dataset is currently in CSV format and in a file named `Unicorn_Companies.csv`. As shown in this cell, the dataset has been automatically loaded in for you. You do not need to download the .csv file, or provide more code, in order to access the dataset and proceed with this lab. Please continue with this activity by completing the following instructions."
   ]
  },
  {
   "cell_type": "code",
   "execution_count": 2,
   "metadata": {
    "id": "3bd40d44-080f-4e49-b0c2-160dedc3c4df"
   },
   "outputs": [],
   "source": [
    "# RUN THIS CELL TO IMPORT YOUR DATA.\n",
    "\n",
    "### YOUR CODE HERE ###\n",
    "df_companies = pd.read_csv(\"Unicorn_Companies.csv\")"
   ]
  },
  {
   "cell_type": "markdown",
   "metadata": {
    "id": "95bf39c9-d05c-4324-a40b-bc692607b61b"
   },
   "source": [
    "## **Step 2: Data exploration** \n",
    "\n",
    "Explore the dataset and answer questions that will guide your management of missing values. "
   ]
  },
  {
   "cell_type": "markdown",
   "metadata": {
    "id": "fe813508"
   },
   "source": [
    "### Display top rows"
   ]
  },
  {
   "cell_type": "markdown",
   "metadata": {
    "id": "26561614-8e9b-4840-8dbf-b50131ae5314",
    "tags": []
   },
   "source": [
    "Display the first 10 rows of the data to understand how the dataset is structured."
   ]
  },
  {
   "cell_type": "code",
   "execution_count": 3,
   "metadata": {
    "id": "ad5210a5-7a64-4991-b004-de818cfaf506"
   },
   "outputs": [
    {
     "data": {
      "text/html": [
       "<div>\n",
       "<style scoped>\n",
       "    .dataframe tbody tr th:only-of-type {\n",
       "        vertical-align: middle;\n",
       "    }\n",
       "\n",
       "    .dataframe tbody tr th {\n",
       "        vertical-align: top;\n",
       "    }\n",
       "\n",
       "    .dataframe thead th {\n",
       "        text-align: right;\n",
       "    }\n",
       "</style>\n",
       "<table border=\"1\" class=\"dataframe\">\n",
       "  <thead>\n",
       "    <tr style=\"text-align: right;\">\n",
       "      <th></th>\n",
       "      <th>Company</th>\n",
       "      <th>Valuation</th>\n",
       "      <th>Date Joined</th>\n",
       "      <th>Industry</th>\n",
       "      <th>City</th>\n",
       "      <th>Country/Region</th>\n",
       "      <th>Continent</th>\n",
       "      <th>Year Founded</th>\n",
       "      <th>Funding</th>\n",
       "      <th>Select Investors</th>\n",
       "    </tr>\n",
       "  </thead>\n",
       "  <tbody>\n",
       "    <tr>\n",
       "      <th>0</th>\n",
       "      <td>Bytedance</td>\n",
       "      <td>$180B</td>\n",
       "      <td>4/7/17</td>\n",
       "      <td>Artificial intelligence</td>\n",
       "      <td>Beijing</td>\n",
       "      <td>China</td>\n",
       "      <td>Asia</td>\n",
       "      <td>2012</td>\n",
       "      <td>$8B</td>\n",
       "      <td>Sequoia Capital China, SIG Asia Investments, S...</td>\n",
       "    </tr>\n",
       "    <tr>\n",
       "      <th>1</th>\n",
       "      <td>SpaceX</td>\n",
       "      <td>$100B</td>\n",
       "      <td>12/1/12</td>\n",
       "      <td>Other</td>\n",
       "      <td>Hawthorne</td>\n",
       "      <td>United States</td>\n",
       "      <td>North America</td>\n",
       "      <td>2002</td>\n",
       "      <td>$7B</td>\n",
       "      <td>Founders Fund, Draper Fisher Jurvetson, Rothen...</td>\n",
       "    </tr>\n",
       "    <tr>\n",
       "      <th>2</th>\n",
       "      <td>SHEIN</td>\n",
       "      <td>$100B</td>\n",
       "      <td>7/3/18</td>\n",
       "      <td>E-commerce &amp; direct-to-consumer</td>\n",
       "      <td>Shenzhen</td>\n",
       "      <td>China</td>\n",
       "      <td>Asia</td>\n",
       "      <td>2008</td>\n",
       "      <td>$2B</td>\n",
       "      <td>Tiger Global Management, Sequoia Capital China...</td>\n",
       "    </tr>\n",
       "    <tr>\n",
       "      <th>3</th>\n",
       "      <td>Stripe</td>\n",
       "      <td>$95B</td>\n",
       "      <td>1/23/14</td>\n",
       "      <td>Fintech</td>\n",
       "      <td>San Francisco</td>\n",
       "      <td>United States</td>\n",
       "      <td>North America</td>\n",
       "      <td>2010</td>\n",
       "      <td>$2B</td>\n",
       "      <td>Khosla Ventures, LowercaseCapital, capitalG</td>\n",
       "    </tr>\n",
       "    <tr>\n",
       "      <th>4</th>\n",
       "      <td>Klarna</td>\n",
       "      <td>$46B</td>\n",
       "      <td>12/12/11</td>\n",
       "      <td>Fintech</td>\n",
       "      <td>Stockholm</td>\n",
       "      <td>Sweden</td>\n",
       "      <td>Europe</td>\n",
       "      <td>2005</td>\n",
       "      <td>$4B</td>\n",
       "      <td>Institutional Venture Partners, Sequoia Capita...</td>\n",
       "    </tr>\n",
       "    <tr>\n",
       "      <th>5</th>\n",
       "      <td>Canva</td>\n",
       "      <td>$40B</td>\n",
       "      <td>1/8/18</td>\n",
       "      <td>Internet software &amp; services</td>\n",
       "      <td>Surry Hills</td>\n",
       "      <td>Australia</td>\n",
       "      <td>Oceania</td>\n",
       "      <td>2012</td>\n",
       "      <td>$572M</td>\n",
       "      <td>Sequoia Capital China, Blackbird Ventures, Mat...</td>\n",
       "    </tr>\n",
       "    <tr>\n",
       "      <th>6</th>\n",
       "      <td>Checkout.com</td>\n",
       "      <td>$40B</td>\n",
       "      <td>5/2/19</td>\n",
       "      <td>Fintech</td>\n",
       "      <td>London</td>\n",
       "      <td>United Kingdom</td>\n",
       "      <td>Europe</td>\n",
       "      <td>2012</td>\n",
       "      <td>$2B</td>\n",
       "      <td>Tiger Global Management, Insight Partners, DST...</td>\n",
       "    </tr>\n",
       "    <tr>\n",
       "      <th>7</th>\n",
       "      <td>Instacart</td>\n",
       "      <td>$39B</td>\n",
       "      <td>12/30/14</td>\n",
       "      <td>Supply chain, logistics, &amp; delivery</td>\n",
       "      <td>San Francisco</td>\n",
       "      <td>United States</td>\n",
       "      <td>North America</td>\n",
       "      <td>2012</td>\n",
       "      <td>$3B</td>\n",
       "      <td>Khosla Ventures, Kleiner Perkins Caufield &amp; By...</td>\n",
       "    </tr>\n",
       "    <tr>\n",
       "      <th>8</th>\n",
       "      <td>JUUL Labs</td>\n",
       "      <td>$38B</td>\n",
       "      <td>12/20/17</td>\n",
       "      <td>Consumer &amp; retail</td>\n",
       "      <td>San Francisco</td>\n",
       "      <td>United States</td>\n",
       "      <td>North America</td>\n",
       "      <td>2015</td>\n",
       "      <td>$14B</td>\n",
       "      <td>Tiger Global Management</td>\n",
       "    </tr>\n",
       "    <tr>\n",
       "      <th>9</th>\n",
       "      <td>Databricks</td>\n",
       "      <td>$38B</td>\n",
       "      <td>2/5/19</td>\n",
       "      <td>Data management &amp; analytics</td>\n",
       "      <td>San Francisco</td>\n",
       "      <td>United States</td>\n",
       "      <td>North America</td>\n",
       "      <td>2013</td>\n",
       "      <td>$3B</td>\n",
       "      <td>Andreessen Horowitz, New Enterprise Associates...</td>\n",
       "    </tr>\n",
       "  </tbody>\n",
       "</table>\n",
       "</div>"
      ],
      "text/plain": [
       "        Company Valuation Date Joined                             Industry  \\\n",
       "0     Bytedance     $180B      4/7/17              Artificial intelligence   \n",
       "1        SpaceX     $100B     12/1/12                                Other   \n",
       "2         SHEIN     $100B      7/3/18      E-commerce & direct-to-consumer   \n",
       "3        Stripe      $95B     1/23/14                              Fintech   \n",
       "4        Klarna      $46B    12/12/11                              Fintech   \n",
       "5         Canva      $40B      1/8/18         Internet software & services   \n",
       "6  Checkout.com      $40B      5/2/19                              Fintech   \n",
       "7     Instacart      $39B    12/30/14  Supply chain, logistics, & delivery   \n",
       "8     JUUL Labs      $38B    12/20/17                    Consumer & retail   \n",
       "9    Databricks      $38B      2/5/19          Data management & analytics   \n",
       "\n",
       "            City  Country/Region      Continent  Year Founded Funding  \\\n",
       "0        Beijing           China           Asia          2012     $8B   \n",
       "1      Hawthorne   United States  North America          2002     $7B   \n",
       "2       Shenzhen           China           Asia          2008     $2B   \n",
       "3  San Francisco   United States  North America          2010     $2B   \n",
       "4      Stockholm          Sweden         Europe          2005     $4B   \n",
       "5    Surry Hills       Australia        Oceania          2012   $572M   \n",
       "6         London  United Kingdom         Europe          2012     $2B   \n",
       "7  San Francisco   United States  North America          2012     $3B   \n",
       "8  San Francisco   United States  North America          2015    $14B   \n",
       "9  San Francisco   United States  North America          2013     $3B   \n",
       "\n",
       "                                    Select Investors  \n",
       "0  Sequoia Capital China, SIG Asia Investments, S...  \n",
       "1  Founders Fund, Draper Fisher Jurvetson, Rothen...  \n",
       "2  Tiger Global Management, Sequoia Capital China...  \n",
       "3        Khosla Ventures, LowercaseCapital, capitalG  \n",
       "4  Institutional Venture Partners, Sequoia Capita...  \n",
       "5  Sequoia Capital China, Blackbird Ventures, Mat...  \n",
       "6  Tiger Global Management, Insight Partners, DST...  \n",
       "7  Khosla Ventures, Kleiner Perkins Caufield & By...  \n",
       "8                            Tiger Global Management  \n",
       "9  Andreessen Horowitz, New Enterprise Associates...  "
      ]
     },
     "execution_count": 3,
     "metadata": {},
     "output_type": "execute_result"
    }
   ],
   "source": [
    "# Display the first 10 rows of the data.\n",
    "\n",
    "### YOUR CODE HERE ###\n",
    "df_companies.head(10)"
   ]
  },
  {
   "cell_type": "markdown",
   "metadata": {
    "id": "49881dfd-4532-424f-9729-f5378d984df0",
    "jp-MarkdownHeadingCollapsed": true,
    "tags": []
   },
   "source": [
    "<details>\n",
    "  <summary><h4><strong>Hint 1</strong></h4></summary>\n",
    "\n",
    "Refer to the materials about exploratory data analysis in Python.\n",
    "\n",
    "</details>"
   ]
  },
  {
   "cell_type": "markdown",
   "metadata": {
    "id": "k2QxFOi9HW1Q",
    "jp-MarkdownHeadingCollapsed": true,
    "tags": []
   },
   "source": [
    "<details>\n",
    "  <summary><h4><strong>Hint 2</strong></h4></summary>\n",
    "\n",
    "  There is a function in the `pandas` library that allows you to get a specific number of rows from the top of a DataFrame.\n",
    " \n",
    "\n",
    "</details>"
   ]
  },
  {
   "cell_type": "markdown",
   "metadata": {
    "id": "ptkclWFzHjHv",
    "jp-MarkdownHeadingCollapsed": true,
    "tags": []
   },
   "source": [
    "<details>\n",
    "  <summary><h4><strong>Hint 3</strong></h4></summary>\n",
    "\n",
    "  Call the `head(10)` function from the `pandas` library. \n",
    "\n",
    "</details>"
   ]
  },
  {
   "cell_type": "markdown",
   "metadata": {
    "id": "55766062"
   },
   "source": [
    "### Statistical properties of the dataset"
   ]
  },
  {
   "cell_type": "markdown",
   "metadata": {
    "id": "6d423621-c14b-4987-a76d-feee76046144"
   },
   "source": [
    "Use methods and attributes of the dataframe to get information and descriptive statistics for the data, including its range, data types, mean values, and shape. \n"
   ]
  },
  {
   "cell_type": "code",
   "execution_count": 4,
   "metadata": {
    "id": "66809360"
   },
   "outputs": [
    {
     "data": {
      "text/html": [
       "<div>\n",
       "<style scoped>\n",
       "    .dataframe tbody tr th:only-of-type {\n",
       "        vertical-align: middle;\n",
       "    }\n",
       "\n",
       "    .dataframe tbody tr th {\n",
       "        vertical-align: top;\n",
       "    }\n",
       "\n",
       "    .dataframe thead th {\n",
       "        text-align: right;\n",
       "    }\n",
       "</style>\n",
       "<table border=\"1\" class=\"dataframe\">\n",
       "  <thead>\n",
       "    <tr style=\"text-align: right;\">\n",
       "      <th></th>\n",
       "      <th>Year Founded</th>\n",
       "    </tr>\n",
       "  </thead>\n",
       "  <tbody>\n",
       "    <tr>\n",
       "      <th>count</th>\n",
       "      <td>1074.000000</td>\n",
       "    </tr>\n",
       "    <tr>\n",
       "      <th>mean</th>\n",
       "      <td>2012.895717</td>\n",
       "    </tr>\n",
       "    <tr>\n",
       "      <th>std</th>\n",
       "      <td>5.698573</td>\n",
       "    </tr>\n",
       "    <tr>\n",
       "      <th>min</th>\n",
       "      <td>1919.000000</td>\n",
       "    </tr>\n",
       "    <tr>\n",
       "      <th>25%</th>\n",
       "      <td>2011.000000</td>\n",
       "    </tr>\n",
       "    <tr>\n",
       "      <th>50%</th>\n",
       "      <td>2014.000000</td>\n",
       "    </tr>\n",
       "    <tr>\n",
       "      <th>75%</th>\n",
       "      <td>2016.000000</td>\n",
       "    </tr>\n",
       "    <tr>\n",
       "      <th>max</th>\n",
       "      <td>2021.000000</td>\n",
       "    </tr>\n",
       "  </tbody>\n",
       "</table>\n",
       "</div>"
      ],
      "text/plain": [
       "       Year Founded\n",
       "count   1074.000000\n",
       "mean    2012.895717\n",
       "std        5.698573\n",
       "min     1919.000000\n",
       "25%     2011.000000\n",
       "50%     2014.000000\n",
       "75%     2016.000000\n",
       "max     2021.000000"
      ]
     },
     "execution_count": 4,
     "metadata": {},
     "output_type": "execute_result"
    }
   ],
   "source": [
    "# Get the shape of the dataset.\n",
    "\n",
    "### YOUR CODE HERE ###\n",
    "df_companies.describe()"
   ]
  },
  {
   "cell_type": "markdown",
   "metadata": {
    "id": "56bce251"
   },
   "source": [
    "<details>\n",
    "  <summary><h4><strong>Hint 1</strong></h4></summary>\n",
    "\n",
    "Refer to the material about exploratory data analysis in Python.\n",
    "\n",
    "</details>"
   ]
  },
  {
   "cell_type": "markdown",
   "metadata": {
    "id": "9fb64cb2"
   },
   "source": [
    "<details>\n",
    "  <summary><h4><strong>Hint 2</strong></h4></summary>\n",
    "\n",
    "  Call the `shape` attribute of the dataframe.\n",
    "\n",
    "</details>"
   ]
  },
  {
   "cell_type": "markdown",
   "metadata": {
    "id": "0f7a87f9"
   },
   "source": [
    "**Question: What is the shape of the dataset?**"
   ]
  },
  {
   "cell_type": "markdown",
   "metadata": {
    "id": "FS9XVrkhSkl1"
   },
   "source": [
    "[Write your response here. Double-click (or enter) to edit.]"
   ]
  },
  {
   "cell_type": "code",
   "execution_count": 5,
   "metadata": {
    "id": "9d85fc26"
   },
   "outputs": [
    {
     "name": "stdout",
     "output_type": "stream",
     "text": [
      "<class 'pandas.core.frame.DataFrame'>\n",
      "RangeIndex: 1074 entries, 0 to 1073\n",
      "Data columns (total 10 columns):\n",
      " #   Column            Non-Null Count  Dtype \n",
      "---  ------            --------------  ----- \n",
      " 0   Company           1074 non-null   object\n",
      " 1   Valuation         1074 non-null   object\n",
      " 2   Date Joined       1074 non-null   object\n",
      " 3   Industry          1074 non-null   object\n",
      " 4   City              1058 non-null   object\n",
      " 5   Country/Region    1074 non-null   object\n",
      " 6   Continent         1074 non-null   object\n",
      " 7   Year Founded      1074 non-null   int64 \n",
      " 8   Funding           1074 non-null   object\n",
      " 9   Select Investors  1073 non-null   object\n",
      "dtypes: int64(1), object(9)\n",
      "memory usage: 84.0+ KB\n"
     ]
    }
   ],
   "source": [
    "# Get the data types and number of non-null values in the dataset.\n",
    "\n",
    "### YOUR CODE HERE ###\n",
    "df_companies.info()"
   ]
  },
  {
   "cell_type": "markdown",
   "metadata": {
    "id": "0Nu8nXobIXt9"
   },
   "source": [
    "<details>\n",
    "  <summary><h4><strong>Hint 1</strong></h4></summary>\n",
    "\n",
    "Refer to the material about exploratory data analysis in Python.\n",
    "\n",
    "</details>"
   ]
  },
  {
   "cell_type": "markdown",
   "metadata": {
    "id": "461c4c42"
   },
   "source": [
    "<details>\n",
    "  <summary><h4><strong>Hint 2</strong></h4></summary>\n",
    "\n",
    "  Use the `info()` method.\n",
    "\n",
    "</details>"
   ]
  },
  {
   "cell_type": "markdown",
   "metadata": {
    "id": "m2CDG1n_IXt9"
   },
   "source": [
    "**Question: What are the data types of various columns?**\n"
   ]
  },
  {
   "cell_type": "markdown",
   "metadata": {
    "id": "su74q1ZjSoO7"
   },
   "source": [
    "[Write your response here. Double-click (or enter) to edit.]"
   ]
  },
  {
   "cell_type": "markdown",
   "metadata": {
    "id": "jlp9whhwIXt9"
   },
   "source": [
    "**Question: How many columns contain null values?**"
   ]
  },
  {
   "cell_type": "markdown",
   "metadata": {
    "id": "QHKFOOKwSqil"
   },
   "source": [
    "[Write your response here. Double-click (or enter) to edit.]"
   ]
  },
  {
   "cell_type": "code",
   "execution_count": 6,
   "metadata": {
    "id": "sfR-1rlkIXt-"
   },
   "outputs": [
    {
     "data": {
      "text/html": [
       "<div>\n",
       "<style scoped>\n",
       "    .dataframe tbody tr th:only-of-type {\n",
       "        vertical-align: middle;\n",
       "    }\n",
       "\n",
       "    .dataframe tbody tr th {\n",
       "        vertical-align: top;\n",
       "    }\n",
       "\n",
       "    .dataframe thead th {\n",
       "        text-align: right;\n",
       "    }\n",
       "</style>\n",
       "<table border=\"1\" class=\"dataframe\">\n",
       "  <thead>\n",
       "    <tr style=\"text-align: right;\">\n",
       "      <th></th>\n",
       "      <th>Year Founded</th>\n",
       "    </tr>\n",
       "  </thead>\n",
       "  <tbody>\n",
       "    <tr>\n",
       "      <th>count</th>\n",
       "      <td>1074.000000</td>\n",
       "    </tr>\n",
       "    <tr>\n",
       "      <th>mean</th>\n",
       "      <td>2012.895717</td>\n",
       "    </tr>\n",
       "    <tr>\n",
       "      <th>std</th>\n",
       "      <td>5.698573</td>\n",
       "    </tr>\n",
       "    <tr>\n",
       "      <th>min</th>\n",
       "      <td>1919.000000</td>\n",
       "    </tr>\n",
       "    <tr>\n",
       "      <th>25%</th>\n",
       "      <td>2011.000000</td>\n",
       "    </tr>\n",
       "    <tr>\n",
       "      <th>50%</th>\n",
       "      <td>2014.000000</td>\n",
       "    </tr>\n",
       "    <tr>\n",
       "      <th>75%</th>\n",
       "      <td>2016.000000</td>\n",
       "    </tr>\n",
       "    <tr>\n",
       "      <th>max</th>\n",
       "      <td>2021.000000</td>\n",
       "    </tr>\n",
       "  </tbody>\n",
       "</table>\n",
       "</div>"
      ],
      "text/plain": [
       "       Year Founded\n",
       "count   1074.000000\n",
       "mean    2012.895717\n",
       "std        5.698573\n",
       "min     1919.000000\n",
       "25%     2011.000000\n",
       "50%     2014.000000\n",
       "75%     2016.000000\n",
       "max     2021.000000"
      ]
     },
     "execution_count": 6,
     "metadata": {},
     "output_type": "execute_result"
    }
   ],
   "source": [
    "# Get descriptive statistics such as mean, standard deviation, and range of the numerical columns in the dataset.\n",
    "\n",
    "### YOUR CODE HERE ###\n",
    "df_companies.describe()"
   ]
  },
  {
   "cell_type": "markdown",
   "metadata": {
    "id": "eVxeOh6Ll2p1",
    "jp-MarkdownHeadingCollapsed": true,
    "tags": []
   },
   "source": [
    "<details>\n",
    "  <summary><h4><strong>Hint 1</strong></h4></summary>\n",
    "\n",
    "Refer to the material about exploratory data analysis in Python.\n",
    "\n",
    "</details>"
   ]
  },
  {
   "cell_type": "markdown",
   "metadata": {
    "id": "D2xvy5HKl2p3",
    "jp-MarkdownHeadingCollapsed": true,
    "tags": []
   },
   "source": [
    "<details>\n",
    "  <summary><h4><strong>Hint 2</strong></h4></summary>\n",
    "\n",
    "  There is a function in the `pandas` library that allows you to find descriptive statistics for the numeric columns in a DataFrame.\n",
    " \n",
    "\n",
    "</details>"
   ]
  },
  {
   "cell_type": "markdown",
   "metadata": {
    "id": "wDvuKFJLl2p4",
    "jp-MarkdownHeadingCollapsed": true,
    "tags": []
   },
   "source": [
    "<details>\n",
    "  <summary><h4><strong>Hint 3</strong></h4></summary>\n",
    "\n",
    "  Call the `describe()` function from the `pandas` library.\n",
    "\n",
    "</details>"
   ]
  },
  {
   "cell_type": "markdown",
   "metadata": {
    "id": "23f7e167"
   },
   "source": [
    "**Question: In what year was the oldest company founded?**"
   ]
  },
  {
   "cell_type": "markdown",
   "metadata": {
    "id": "wBrQSH8VSt0T"
   },
   "source": [
    "[Write your response here. Double-click (or enter) to edit.]"
   ]
  },
  {
   "cell_type": "markdown",
   "metadata": {
    "id": "a885babf"
   },
   "source": [
    "### Data Preprocessing"
   ]
  },
  {
   "cell_type": "markdown",
   "metadata": {
    "id": "f46cb991"
   },
   "source": [
    "In order to answer the investor's questions, some data preprocessing steps are required. The first step is to add a new column to the dataframe containing just the year each company became a unicorn company. Call this new column `Year Joined`. "
   ]
  },
  {
   "cell_type": "code",
   "execution_count": 7,
   "metadata": {
    "id": "15bfeecc"
   },
   "outputs": [],
   "source": [
    "# Create a new column \"Year Joined\" from \"Date Joined\".\n",
    "\n",
    "### YOUR CODE HERE ###\n",
    "# Convert 'Date Joined' to datetime if it's not already\n",
    "df_companies['Date Joined'] = pd.to_datetime(df_companies['Date Joined'])\n",
    "\n",
    "# Create the new 'Year Joined' column\n",
    "df_companies['Year Joined'] = df_companies['Date Joined'].dt.year"
   ]
  },
  {
   "cell_type": "markdown",
   "metadata": {
    "id": "5949c474"
   },
   "source": [
    "For each country, you want to calculate the sum of all valuations of companies from that country. However, in order to do this, you'll need to first prepare the data. Currently, the data in the `Valuation` column is a string that starts with a `$` and ends with a `B`. Because this column is not in a numeric datatype, pandas cannot perform mathematical operations on its values. The data in this column needs to be converted to a numeric datatype. \n",
    "\n",
    "In this step, define a function called `str_to_num()` that accepts as an argument:\n",
    "\n",
    "* `x`: a string in the format of the values contained in the `Valuation` column\n",
    "\n",
    "And returns:\n",
    "\n",
    "* `x`: an `int` of the number represented by the input string\n",
    "\n",
    "```\n",
    "Example:\n",
    "\n",
    " [IN]:  str_to_num('$4B')\n",
    "[OUT]:  4\n",
    "\n",
    "```\n",
    "\n",
    "\n",
    "To do this, use the string [`strip()`](https://docs.python.org/3/library/stdtypes.html#str.strip) method. This method is applied to a string. Its argument is a string that contains all the characters that you want to remove from the beginning and end of a given string&mdash;in any order. The specified characters will be removed until a valid character is encountered. This process is applied moving forward from the beginning of the string and also moving in reverse from the end of the string, thus removing unwanted beginning and trailing characters.\n",
    "\n",
    "```\n",
    "Example:\n",
    "\n",
    " [IN]:  my_string = '#....... Section 3.2.1 Issue #32 .......'\n",
    "        my_string = my_string.strip('.#! ')\n",
    "        print(my_string)\n",
    "\n",
    "[OUT]:  'Section 3.2.1 Issue #32'\n",
    "\n",
    "```\n",
    "\n",
    "Note that you must reassign the result back to a variable or else the change will not be permanent. "
   ]
  },
  {
   "cell_type": "code",
   "execution_count": 8,
   "metadata": {
    "id": "1856c3c8-dd7e-4b0f-8e30-06e8ed6b9885"
   },
   "outputs": [
    {
     "name": "stdout",
     "output_type": "stream",
     "text": [
      "          Company     Valuation Date Joined                         Industry  \\\n",
      "0       Bytedance  1.800000e+11  2017-04-07          Artificial intelligence   \n",
      "1          SpaceX  1.000000e+11  2012-12-01                            Other   \n",
      "2           SHEIN  1.000000e+11  2018-07-03  E-commerce & direct-to-consumer   \n",
      "3          Stripe  9.500000e+10  2014-01-23                          Fintech   \n",
      "4          Klarna  4.600000e+10  2011-12-12                          Fintech   \n",
      "...           ...           ...         ...                              ...   \n",
      "1069     Zhaogang  1.000000e+09  2017-06-29  E-commerce & direct-to-consumer   \n",
      "1070  Zhuan Zhuan  1.000000e+09  2017-04-18  E-commerce & direct-to-consumer   \n",
      "1071     Zihaiguo  1.000000e+09  2021-05-06                Consumer & retail   \n",
      "1072         Zopa  1.000000e+09  2021-10-19                          Fintech   \n",
      "1073        Zwift  1.000000e+09  2020-09-16  E-commerce & direct-to-consumer   \n",
      "\n",
      "               City  Country/Region      Continent  Year Founded Funding  \\\n",
      "0           Beijing           China           Asia          2012     $8B   \n",
      "1         Hawthorne   United States  North America          2002     $7B   \n",
      "2          Shenzhen           China           Asia          2008     $2B   \n",
      "3     San Francisco   United States  North America          2010     $2B   \n",
      "4         Stockholm          Sweden         Europe          2005     $4B   \n",
      "...             ...             ...            ...           ...     ...   \n",
      "1069       Shanghai           China           Asia          2012   $379M   \n",
      "1070        Beijing           China           Asia          2015   $990M   \n",
      "1071      Chongqing           China           Asia          2018    $80M   \n",
      "1072         London  United Kingdom         Europe          2005   $792M   \n",
      "1073     Long Beach   United States  North America          2014   $620M   \n",
      "\n",
      "                                       Select Investors  Year Joined  \n",
      "0     Sequoia Capital China, SIG Asia Investments, S...         2017  \n",
      "1     Founders Fund, Draper Fisher Jurvetson, Rothen...         2012  \n",
      "2     Tiger Global Management, Sequoia Capital China...         2018  \n",
      "3           Khosla Ventures, LowercaseCapital, capitalG         2014  \n",
      "4     Institutional Venture Partners, Sequoia Capita...         2011  \n",
      "...                                                 ...          ...  \n",
      "1069    K2 Ventures, Matrix Partners China, IDG Capital         2017  \n",
      "1070                           58.com, Tencent Holdings         2017  \n",
      "1071  Xingwang Investment Management, China Capital ...         2021  \n",
      "1072  IAG Capital Partners, Augmentum Fintech, North...         2021  \n",
      "1073    Novator Partners, True, Causeway Media Partners         2020  \n",
      "\n",
      "[1074 rows x 11 columns]\n"
     ]
    }
   ],
   "source": [
    "# Define the `str_to_num()` function\n",
    "# Create a DataFrame from the list of companies\n",
    "df = pd.DataFrame(df_companies)\n",
    "\n",
    "\n",
    "# Function to convert valuation strings to numerical values\n",
    "def convert_valuation(val):\n",
    "    if 'B' in val:\n",
    "        return float(val.replace('$', '').replace('B', '')) * 1e9\n",
    "    elif 'M' in val:\n",
    "        return float(val.replace('$', '').replace('M', '')) * 1e6\n",
    "    return float(val.replace('$', ''))\n",
    "\n",
    "# Apply the conversion function to the 'Valuation' column\n",
    "df['Valuation'] = df['Valuation'].apply(convert_valuation)\n",
    "\n",
    "# Display the updated DataFrame\n",
    "print(df)"
   ]
  },
  {
   "cell_type": "markdown",
   "metadata": {
    "id": "d97f7147"
   },
   "source": [
    "<details>\n",
    "  <summary><h4><strong>Hint 1</strong></h4></summary>\n",
    "\n",
    "The unwanted characters in the values contained in the `Valuation` column are `'$'` and `'B'`.\n",
    "    \n",
    "</details>"
   ]
  },
  {
   "cell_type": "markdown",
   "metadata": {},
   "source": [
    "<details>\n",
    "  <summary><h4><strong>Hint 2</strong></h4></summary>\n",
    "\n",
    "Pass a string of the unwanted values as an argument to the `strip()` string method.\n",
    "    \n",
    "</details>"
   ]
  },
  {
   "cell_type": "markdown",
   "metadata": {},
   "source": [
    "<details>\n",
    "  <summary><h4><strong>Hint 3</strong></h4></summary>\n",
    "\n",
    "The final step before returning `x` should be converting it to an integer.\n",
    "    \n",
    "</details>"
   ]
  },
  {
   "cell_type": "markdown",
   "metadata": {},
   "source": [
    "Now, use this function to create a new column called `valuation_num` that represents the `Valuation` column as an integer value. To do this, use the series method [`apply()`](https://pandas.pydata.org/docs/reference/api/pandas.Series.apply.html) to apply the `str_to_num()` function to the `Valuation` column.\n",
    "\n",
    "`apply()` is a method that can be used on a `DataFrame` or `Series` object. In this case, you're using it on the `Valuation` series. The method accepts a function as an argument and applies that function to each value in the series.\n",
    "\n",
    "```\n",
    "Example:\n",
    "\n",
    " [IN]: def square(x):\n",
    "           return x ** 2\n",
    "\n",
    "       my_series = pd.Series([0, 1, 2, 3])\n",
    "       my_series\n",
    "\n",
    "[OUT]: 0    0\n",
    "       1    1\n",
    "       2    2\n",
    "       3    3\n",
    "       dtype: int64\n",
    "\n",
    " [IN]: my_series = my_series.apply(square)\n",
    "       my_series\n",
    "\n",
    "[OUT]: 0    0\n",
    "       1    1\n",
    "       2    4\n",
    "       3    9\n",
    "       dtype: int64\n",
    "```\n",
    "\n",
    "Notice that the function passed as an argument to the `apply()` method does not have parentheses. It's just the function name."
   ]
  },
  {
   "cell_type": "code",
   "execution_count": 9,
   "metadata": {},
   "outputs": [
    {
     "data": {
      "text/html": [
       "<div>\n",
       "<style scoped>\n",
       "    .dataframe tbody tr th:only-of-type {\n",
       "        vertical-align: middle;\n",
       "    }\n",
       "\n",
       "    .dataframe tbody tr th {\n",
       "        vertical-align: top;\n",
       "    }\n",
       "\n",
       "    .dataframe thead th {\n",
       "        text-align: right;\n",
       "    }\n",
       "</style>\n",
       "<table border=\"1\" class=\"dataframe\">\n",
       "  <thead>\n",
       "    <tr style=\"text-align: right;\">\n",
       "      <th></th>\n",
       "      <th>Company</th>\n",
       "      <th>Valuation</th>\n",
       "      <th>Date Joined</th>\n",
       "      <th>Industry</th>\n",
       "      <th>City</th>\n",
       "      <th>Country/Region</th>\n",
       "      <th>Continent</th>\n",
       "      <th>Year Founded</th>\n",
       "      <th>Funding</th>\n",
       "      <th>Select Investors</th>\n",
       "      <th>Year Joined</th>\n",
       "    </tr>\n",
       "  </thead>\n",
       "  <tbody>\n",
       "    <tr>\n",
       "      <th>0</th>\n",
       "      <td>Bytedance</td>\n",
       "      <td>1.800000e+11</td>\n",
       "      <td>2017-04-07</td>\n",
       "      <td>Artificial intelligence</td>\n",
       "      <td>Beijing</td>\n",
       "      <td>China</td>\n",
       "      <td>Asia</td>\n",
       "      <td>2012</td>\n",
       "      <td>$8B</td>\n",
       "      <td>Sequoia Capital China, SIG Asia Investments, S...</td>\n",
       "      <td>2017</td>\n",
       "    </tr>\n",
       "    <tr>\n",
       "      <th>1</th>\n",
       "      <td>SpaceX</td>\n",
       "      <td>1.000000e+11</td>\n",
       "      <td>2012-12-01</td>\n",
       "      <td>Other</td>\n",
       "      <td>Hawthorne</td>\n",
       "      <td>United States</td>\n",
       "      <td>North America</td>\n",
       "      <td>2002</td>\n",
       "      <td>$7B</td>\n",
       "      <td>Founders Fund, Draper Fisher Jurvetson, Rothen...</td>\n",
       "      <td>2012</td>\n",
       "    </tr>\n",
       "    <tr>\n",
       "      <th>2</th>\n",
       "      <td>SHEIN</td>\n",
       "      <td>1.000000e+11</td>\n",
       "      <td>2018-07-03</td>\n",
       "      <td>E-commerce &amp; direct-to-consumer</td>\n",
       "      <td>Shenzhen</td>\n",
       "      <td>China</td>\n",
       "      <td>Asia</td>\n",
       "      <td>2008</td>\n",
       "      <td>$2B</td>\n",
       "      <td>Tiger Global Management, Sequoia Capital China...</td>\n",
       "      <td>2018</td>\n",
       "    </tr>\n",
       "  </tbody>\n",
       "</table>\n",
       "</div>"
      ],
      "text/plain": [
       "     Company     Valuation Date Joined                         Industry  \\\n",
       "0  Bytedance  1.800000e+11  2017-04-07          Artificial intelligence   \n",
       "1     SpaceX  1.000000e+11  2012-12-01                            Other   \n",
       "2      SHEIN  1.000000e+11  2018-07-03  E-commerce & direct-to-consumer   \n",
       "\n",
       "        City Country/Region      Continent  Year Founded Funding  \\\n",
       "0    Beijing          China           Asia          2012     $8B   \n",
       "1  Hawthorne  United States  North America          2002     $7B   \n",
       "2   Shenzhen          China           Asia          2008     $2B   \n",
       "\n",
       "                                    Select Investors  Year Joined  \n",
       "0  Sequoia Capital China, SIG Asia Investments, S...         2017  \n",
       "1  Founders Fund, Draper Fisher Jurvetson, Rothen...         2012  \n",
       "2  Tiger Global Management, Sequoia Capital China...         2018  "
      ]
     },
     "execution_count": 9,
     "metadata": {},
     "output_type": "execute_result"
    }
   ],
   "source": [
    "# Apply the `str_to_num()` function to the `Valuation` column\n",
    "# and assign the result back to a new column called `valuation_num`\n",
    "\n",
    "### YOUR CODE HERE ###\n",
    "df.head(3)"
   ]
  },
  {
   "cell_type": "markdown",
   "metadata": {
    "id": "b27ef252"
   },
   "source": [
    "### Find missing values"
   ]
  },
  {
   "cell_type": "markdown",
   "metadata": {
    "id": "9bad4e67"
   },
   "source": [
    "The unicorn companies dataset is fairly clean, with few missing values. "
   ]
  },
  {
   "cell_type": "code",
   "execution_count": 10,
   "metadata": {
    "id": "939ded7d"
   },
   "outputs": [
    {
     "name": "stdout",
     "output_type": "stream",
     "text": [
      "<class 'pandas.core.frame.DataFrame'>\n",
      "RangeIndex: 1074 entries, 0 to 1073\n",
      "Data columns (total 11 columns):\n",
      " #   Column            Non-Null Count  Dtype         \n",
      "---  ------            --------------  -----         \n",
      " 0   Company           1074 non-null   object        \n",
      " 1   Valuation         1074 non-null   float64       \n",
      " 2   Date Joined       1074 non-null   datetime64[ns]\n",
      " 3   Industry          1074 non-null   object        \n",
      " 4   City              1058 non-null   object        \n",
      " 5   Country/Region    1074 non-null   object        \n",
      " 6   Continent         1074 non-null   object        \n",
      " 7   Year Founded      1074 non-null   int64         \n",
      " 8   Funding           1074 non-null   object        \n",
      " 9   Select Investors  1073 non-null   object        \n",
      " 10  Year Joined       1074 non-null   int64         \n",
      "dtypes: datetime64[ns](1), float64(1), int64(2), object(7)\n",
      "memory usage: 92.4+ KB\n"
     ]
    }
   ],
   "source": [
    "# Find the number of missing values in each column in this dataset.\n",
    "\n",
    "### YOUR CODE HERE ###\n",
    "df.info()"
   ]
  },
  {
   "cell_type": "markdown",
   "metadata": {},
   "source": [
    "<details>\n",
    "  <summary><h4><strong>Hint 1</strong></h4></summary>\n",
    "\n",
    "The `isna()` `DataFrame` method will return a dataframe of Boolean values in the same shape as your original dataframe. Values are `True` if the data is missing and `False` if it is not missing.\n",
    "    \n",
    "</details>"
   ]
  },
  {
   "cell_type": "markdown",
   "metadata": {},
   "source": [
    "<details>\n",
    "  <summary><h4><strong>Hint 2</strong></h4></summary>\n",
    "\n",
    "You'll need to convert Boolean values into numerical values. Remember that `True` values are considered `1` and `False` values are considered `0`.\n",
    "    \n",
    "</details>"
   ]
  },
  {
   "cell_type": "markdown",
   "metadata": {},
   "source": [
    "<details>\n",
    "  <summary><h4><strong>Hint 3</strong></h4></summary>\n",
    "\n",
    "After applying the `isna()` method to the `df_companies` dataframe, apply the `sum()` method to the results to return a pandas `Series` object with each column name and the number of `NaN` values it contains.\n",
    "    \n",
    "</details>"
   ]
  },
  {
   "cell_type": "markdown",
   "metadata": {
    "id": "a99680f5"
   },
   "source": [
    " **Question: How many missing values are in each column in the dataset?**"
   ]
  },
  {
   "cell_type": "markdown",
   "metadata": {
    "id": "T_JQnZ5uS4Pm"
   },
   "source": [
    "[Write your response here. Double-click (or enter) to edit.]"
   ]
  },
  {
   "cell_type": "markdown",
   "metadata": {
    "id": "e1e91864"
   },
   "source": [
    "### Review rows with missing values"
   ]
  },
  {
   "cell_type": "markdown",
   "metadata": {
    "id": "84a779e9"
   },
   "source": [
    "Before dealing with missing values, it's important to understand the nature of the missing value that is being filled. Display all rows with missing values from `df_companies`. To do this, perform the following three steps:\n",
    "\n",
    "1. Apply the `isna()` method to the `df_companies` dataframe as you did in the last step. Remember, this results in a dataframe of the same shape as `df_companies` where each value is `True` if its contents are `NaN` and a `False` if its contents are not `NaN`. Assign the results to a variable called `mask`."
   ]
  },
  {
   "cell_type": "code",
   "execution_count": 11,
   "metadata": {},
   "outputs": [
    {
     "name": "stdout",
     "output_type": "stream",
     "text": [
      "Original DataFrame:\n",
      "     Company     Valuation Date Joined                         Industry  \\\n",
      "0  Bytedance  1.800000e+11  2017-04-07          Artificial intelligence   \n",
      "1     SpaceX  1.000000e+11  2012-12-01                            Other   \n",
      "2      SHEIN  1.000000e+11  2018-07-03  E-commerce & direct-to-consumer   \n",
      "3     Stripe  9.500000e+10  2014-01-23                          Fintech   \n",
      "\n",
      "            City Country/Region      Continent  Year Founded Funding  \\\n",
      "0        Beijing          China           Asia          2012     $8B   \n",
      "1      Hawthorne  United States  North America          2002     $7B   \n",
      "2       Shenzhen          China           Asia          2008     $2B   \n",
      "3  San Francisco  United States  North America          2010     $2B   \n",
      "\n",
      "                                    Select Investors  Year Joined  \n",
      "0  Sequoia Capital China, SIG Asia Investments, S...         2017  \n",
      "1  Founders Fund, Draper Fisher Jurvetson, Rothen...         2012  \n",
      "2  Tiger Global Management, Sequoia Capital China...         2018  \n",
      "3        Khosla Ventures, LowercaseCapital, capitalG         2014  \n",
      "\n",
      "Missing Value Mask:\n",
      "   Company  Valuation  Date Joined  Industry   City  Country/Region  \\\n",
      "0    False      False        False     False  False           False   \n",
      "1    False      False        False     False  False           False   \n",
      "2    False      False        False     False  False           False   \n",
      "3    False      False        False     False  False           False   \n",
      "\n",
      "   Continent  Year Founded  Funding  Select Investors  Year Joined  \n",
      "0      False         False    False             False        False  \n",
      "1      False         False    False             False        False  \n",
      "2      False         False    False             False        False  \n",
      "3      False         False    False             False        False  \n"
     ]
    }
   ],
   "source": [
    "# 1. Apply the `isna()` method to the `df_companies` dataframe and assign back to `mask`\n",
    "\n",
    "### YOUR CODE HERE ###\n",
    "# Apply isna() method to df and assign to mask\n",
    "mask = df.isna()\n",
    "\n",
    "# Display the original DataFrame and the mask\n",
    "print(\"Original DataFrame:\")\n",
    "print(df.head(4))\n",
    "print(\"\\nMissing Value Mask:\")\n",
    "print(mask.head(4))"
   ]
  },
  {
   "cell_type": "markdown",
   "metadata": {},
   "source": [
    "You're not done yet. You still need to go from this dataframe of Boolean values to a dataframe of just the rows of `df_companies` that contain at least one `NaN` value. This means that you need a way to find the indices of the rows of the Boolean dataframe that contain at least one `True` value, then extract those indices from `df_companies`. \n",
    "\n",
    "You can do this using the [`any()`](https://pandas.pydata.org/docs/reference/api/pandas.DataFrame.any.html) method for `DataFrame` objects. This method returns a Boolean `Series` indicating whether any value is `True` over a specified axis.\n",
    "\n",
    "```\n",
    "Example:\n",
    "\n",
    "df =     \n",
    "        A      B    C\n",
    "    0   0      a    10\n",
    "    1   False  0    1\n",
    "    2   NaN    NaN  NaN\n",
    "\n",
    "\n",
    " [IN]: df.any(axis=0)\n",
    "\n",
    "[OUT]: A    False\n",
    "       B     True\n",
    "       C     True\n",
    "       dtype: bool\n",
    "       \n",
    " [IN]: df.any(axis=1)\n",
    " \n",
    "[OUT]: 0     True\n",
    "       1     True\n",
    "       2    False\n",
    "       dtype: bool\n",
    "```\n",
    "\n",
    "Note that `0`, `False`, and `NaN` are considered `False` and anything else is considered `True`. \n",
    "\n",
    "2. Apply the `any()` method to the Boolean dataframe you created to make a Boolean series where each element in the series represents `True` if a row of the dataframe contains any `True` values and `False` if any row in the dataframe contains any `False` values. Assign the results back to `mask`."
   ]
  },
  {
   "cell_type": "code",
   "execution_count": 13,
   "metadata": {},
   "outputs": [
    {
     "name": "stdout",
     "output_type": "stream",
     "text": [
      "\n",
      "Boolean Series after applying any() method:\n",
      "0       False\n",
      "1       False\n",
      "2       False\n",
      "3       False\n",
      "4       False\n",
      "        ...  \n",
      "1069    False\n",
      "1070    False\n",
      "1071    False\n",
      "1072    False\n",
      "1073    False\n",
      "Length: 1074, dtype: bool\n"
     ]
    }
   ],
   "source": [
    "# 2. Apply the `any()` method to `mask` and assign the results back to `mask`\n",
    "\n",
    "### YOUR CODE HERE ###\n",
    "# Apply any() method along axis=1 (rows) and assign back to mask\n",
    "mask = mask.any(axis=1)\n",
    "\n",
    "print(\"\\nBoolean Series after applying any() method:\")\n",
    "print(mask)"
   ]
  },
  {
   "cell_type": "markdown",
   "metadata": {},
   "source": [
    "<details>\n",
    "  <summary><h4><strong>Hint 1</strong></h4></summary>\n",
    "\n",
    "Refer to the example given for how to use the `any()` method for dataframes.\n",
    "    \n",
    "</details>"
   ]
  },
  {
   "cell_type": "markdown",
   "metadata": {},
   "source": [
    "<details>\n",
    "  <summary><h4><strong>Hint 2</strong></h4></summary>\n",
    "\n",
    "Using the provided example as a guide, which axis returns **rows** that have at least one `True` value?\n",
    "    \n",
    "</details>"
   ]
  },
  {
   "cell_type": "markdown",
   "metadata": {},
   "source": [
    "<details>\n",
    "  <summary><h4><strong>Hint 3</strong></h4></summary>\n",
    "\n",
    "`mask.any(axis=1)` will return a Boolean series that represents whether each row of `mask` contains at least one `True` value. \n",
    "    \n",
    "</details>"
   ]
  },
  {
   "cell_type": "markdown",
   "metadata": {},
   "source": [
    "3. Because `mask` is now a series of Boolean values, you can use it as a Boolean mask. Apply the Boolean mask to the `df_companies` dataframe to return a filtered dataframe containing just the rows that contain a missing value. Assign the results to a variable called `df_missing_rows`."
   ]
  },
  {
   "cell_type": "code",
   "execution_count": 14,
   "metadata": {},
   "outputs": [
    {
     "name": "stdout",
     "output_type": "stream",
     "text": [
      "Original df_companies DataFrame:\n",
      "          Company     Valuation Date Joined                         Industry  \\\n",
      "0       Bytedance  1.800000e+11  2017-04-07          Artificial intelligence   \n",
      "1          SpaceX  1.000000e+11  2012-12-01                            Other   \n",
      "2           SHEIN  1.000000e+11  2018-07-03  E-commerce & direct-to-consumer   \n",
      "3          Stripe  9.500000e+10  2014-01-23                          Fintech   \n",
      "4          Klarna  4.600000e+10  2011-12-12                          Fintech   \n",
      "...           ...           ...         ...                              ...   \n",
      "1069     Zhaogang  1.000000e+09  2017-06-29  E-commerce & direct-to-consumer   \n",
      "1070  Zhuan Zhuan  1.000000e+09  2017-04-18  E-commerce & direct-to-consumer   \n",
      "1071     Zihaiguo  1.000000e+09  2021-05-06                Consumer & retail   \n",
      "1072         Zopa  1.000000e+09  2021-10-19                          Fintech   \n",
      "1073        Zwift  1.000000e+09  2020-09-16  E-commerce & direct-to-consumer   \n",
      "\n",
      "               City  Country/Region      Continent  Year Founded Funding  \\\n",
      "0           Beijing           China           Asia          2012     $8B   \n",
      "1         Hawthorne   United States  North America          2002     $7B   \n",
      "2          Shenzhen           China           Asia          2008     $2B   \n",
      "3     San Francisco   United States  North America          2010     $2B   \n",
      "4         Stockholm          Sweden         Europe          2005     $4B   \n",
      "...             ...             ...            ...           ...     ...   \n",
      "1069       Shanghai           China           Asia          2012   $379M   \n",
      "1070        Beijing           China           Asia          2015   $990M   \n",
      "1071      Chongqing           China           Asia          2018    $80M   \n",
      "1072         London  United Kingdom         Europe          2005   $792M   \n",
      "1073     Long Beach   United States  North America          2014   $620M   \n",
      "\n",
      "                                       Select Investors  Year Joined  \n",
      "0     Sequoia Capital China, SIG Asia Investments, S...         2017  \n",
      "1     Founders Fund, Draper Fisher Jurvetson, Rothen...         2012  \n",
      "2     Tiger Global Management, Sequoia Capital China...         2018  \n",
      "3           Khosla Ventures, LowercaseCapital, capitalG         2014  \n",
      "4     Institutional Venture Partners, Sequoia Capita...         2011  \n",
      "...                                                 ...          ...  \n",
      "1069    K2 Ventures, Matrix Partners China, IDG Capital         2017  \n",
      "1070                           58.com, Tencent Holdings         2017  \n",
      "1071  Xingwang Investment Management, China Capital ...         2021  \n",
      "1072  IAG Capital Partners, Augmentum Fintech, North...         2021  \n",
      "1073    Novator Partners, True, Causeway Media Partners         2020  \n",
      "\n",
      "[1074 rows x 11 columns]\n",
      "\n",
      "Mask (rows with any missing values):\n",
      "0       False\n",
      "1       False\n",
      "2       False\n",
      "3       False\n",
      "4       False\n",
      "        ...  \n",
      "1069    False\n",
      "1070    False\n",
      "1071    False\n",
      "1072    False\n",
      "1073    False\n",
      "Length: 1074, dtype: bool\n",
      "\n",
      "df_missing_rows (rows with any missing values):\n",
      "                         Company     Valuation Date Joined  \\\n",
      "12                           FTX  3.200000e+10  2021-07-20   \n",
      "170                    HyalRoute  4.000000e+09  2020-05-26   \n",
      "242                       Moglix  3.000000e+09  2021-05-17   \n",
      "251                         Trax  3.000000e+09  2019-07-22   \n",
      "325                  Amber Group  3.000000e+09  2021-06-21   \n",
      "382                    Ninja Van  2.000000e+09  2021-09-27   \n",
      "541   Advance Intelligence Group  2.000000e+09  2021-09-23   \n",
      "629             LinkSure Network  1.000000e+09  2015-01-01   \n",
      "811                    Carousell  1.000000e+09  2021-09-15   \n",
      "848                   Matrixport  1.000000e+09  2021-06-01   \n",
      "880                     bolttech  1.000000e+09  2021-07-01   \n",
      "889                        Carro  1.000000e+09  2021-06-14   \n",
      "893                        Cider  1.000000e+09  2021-09-02   \n",
      "980                         NIUM  1.000000e+09  2021-07-13   \n",
      "986                          ONE  1.000000e+09  2021-12-08   \n",
      "994                      PatSnap  1.000000e+09  2021-03-16   \n",
      "1061                       WeLab  1.000000e+09  2017-11-08   \n",
      "\n",
      "                                 Industry      City Country/Region  \\\n",
      "12                                Fintech       NaN        Bahamas   \n",
      "170           Mobile & telecommunications       NaN      Singapore   \n",
      "242       E-commerce & direct-to-consumer       NaN      Singapore   \n",
      "251               Artificial intelligence       NaN      Singapore   \n",
      "325                               Fintech       NaN      Hong Kong   \n",
      "382   Supply chain, logistics, & delivery       NaN      Singapore   \n",
      "541               Artificial intelligence       NaN      Singapore   \n",
      "629           Mobile & telecommunications  Shanghai          China   \n",
      "811       E-commerce & direct-to-consumer       NaN      Singapore   \n",
      "848                               Fintech       NaN      Singapore   \n",
      "880                               Fintech       NaN      Singapore   \n",
      "889       E-commerce & direct-to-consumer       NaN      Singapore   \n",
      "893       E-commerce & direct-to-consumer       NaN      Hong Kong   \n",
      "980                               Fintech       NaN      Singapore   \n",
      "986          Internet software & services       NaN      Singapore   \n",
      "994          Internet software & services       NaN      Singapore   \n",
      "1061                              Fintech       NaN      Hong Kong   \n",
      "\n",
      "          Continent  Year Founded Funding  \\\n",
      "12    North America          2018     $2B   \n",
      "170            Asia          2015   $263M   \n",
      "242            Asia          2015   $471M   \n",
      "251            Asia          2010     $1B   \n",
      "325            Asia          2015   $328M   \n",
      "382            Asia          2014   $975M   \n",
      "541            Asia          2016   $536M   \n",
      "629            Asia          2013    $52M   \n",
      "811            Asia          2012   $288M   \n",
      "848            Asia          2019   $100M   \n",
      "880            Asia          2018   $210M   \n",
      "889            Asia          2015   $595M   \n",
      "893            Asia          2020   $140M   \n",
      "980            Asia          2014   $285M   \n",
      "986            Asia          2011   $515M   \n",
      "994            Asia          2007   $352M   \n",
      "1061           Asia          2013   $871M   \n",
      "\n",
      "                                       Select Investors  Year Joined  \n",
      "12               Sequoia Capital, Thoma Bravo, Softbank         2021  \n",
      "170                                           Kuang-Chi         2020  \n",
      "242             Jungle Ventures, Accel, Venture Highway         2021  \n",
      "251   Hopu Investment Management, Boyu Capital, DC T...         2019  \n",
      "325   Tiger Global Management, Tiger Brokers, DCM Ve...         2021  \n",
      "382   B Capital Group, Monk's Hill Ventures, Dynamic...         2021  \n",
      "541         Vision Plus Capital, GSR Ventures, ZhenFund         2021  \n",
      "629                                                 NaN         2015  \n",
      "811   500 Global, Rakuten Ventures, Golden Gate Vent...         2021  \n",
      "848   Dragonfly Captial, Qiming Venture Partners, DS...         2021  \n",
      "880   Mundi Ventures, Doqling Capital Partners, Acti...         2021  \n",
      "889   SingTel Innov8, Alpha JWC Ventures, Golden Gat...         2021  \n",
      "893        Andreessen Horowitz, DST Global, IDG Capital         2021  \n",
      "980   Vertex Ventures SE Asia, Global Founders Capit...         2021  \n",
      "986   Temasek, Guggenheim Investments, Qatar Investm...         2021  \n",
      "994   Sequoia Capital China, Shunwei Capital Partner...         2021  \n",
      "1061  Sequoia Capital China, ING, Alibaba Entreprene...         2017  \n"
     ]
    }
   ],
   "source": [
    "# 3. Apply `mask` as a Boolean mask to `df_companies` and assign results to `df_missing_rows`\n",
    "\n",
    "### YOUR CODE HERE ###\n",
    "# Apply the mask to df_companies and assign to df_missing_rows\n",
    "df_missing_rows = df[mask]\n",
    "\n",
    "# Display the results\n",
    "print(\"Original df_companies DataFrame:\")\n",
    "print(df)\n",
    "print(\"\\nMask (rows with any missing values):\")\n",
    "print(mask)\n",
    "print(\"\\ndf_missing_rows (rows with any missing values):\")\n",
    "print(df_missing_rows)"
   ]
  },
  {
   "cell_type": "markdown",
   "metadata": {
    "id": "d267da5d"
   },
   "source": [
    "**Question: Is there a specific country/region that shows up a lot in this missing values dataframe? Which one?**\n"
   ]
  },
  {
   "cell_type": "markdown",
   "metadata": {
    "id": "I6Wfa6A0TB1r"
   },
   "source": [
    "[Write your response here. Double-click (or enter) to edit.]"
   ]
  },
  {
   "cell_type": "markdown",
   "metadata": {},
   "source": [
    "**Question: What steps did you take to find missing data?**\n"
   ]
  },
  {
   "cell_type": "markdown",
   "metadata": {},
   "source": [
    "[Write your response here. Double-click (or enter) to edit.]"
   ]
  },
  {
   "cell_type": "markdown",
   "metadata": {},
   "source": [
    "**Question: What observations can be made about the forms and context of missing data?**\n"
   ]
  },
  {
   "cell_type": "markdown",
   "metadata": {},
   "source": [
    "[Write your response here. Double-click (or enter) to edit.]"
   ]
  },
  {
   "cell_type": "markdown",
   "metadata": {},
   "source": [
    "**Question: What other methods could you use to address missing data?**\n"
   ]
  },
  {
   "cell_type": "markdown",
   "metadata": {},
   "source": [
    "[Write your response here. Double-click (or enter) to edit.]"
   ]
  },
  {
   "cell_type": "markdown",
   "metadata": {
    "id": "34021f9c"
   },
   "source": [
    "## Step 3: Model building\n",
    "\n",
    "Think of the model you are building as the completed dataset, which you will then use to inform the questions the investor has asked of you.  "
   ]
  },
  {
   "cell_type": "markdown",
   "metadata": {
    "id": "1b7ff426"
   },
   "source": [
    "### Two ways to address missing values\n",
    "\n",
    "There are several ways to address missing values, which is critical in EDA. The two primary methods are removing them and imputing other values in their place. Choosing the proper method depends on the business problem and the value the solution will add or take away from the dataset.\n",
    "\n",
    "Here, you will try both. "
   ]
  },
  {
   "cell_type": "markdown",
   "metadata": {},
   "source": [
    "To compare the the effect of different actions, first store the original number of values in a variable. Create a variable called `count_total` that is an integer representing the total number of values in `df_companies`. For example, if the dataframe had 5 rows and 2 columns, then this number would be 10."
   ]
  },
  {
   "cell_type": "code",
   "execution_count": 15,
   "metadata": {
    "id": "cd63abb1"
   },
   "outputs": [
    {
     "name": "stdout",
     "output_type": "stream",
     "text": [
      "Total number of values in df_companies: 11814\n"
     ]
    }
   ],
   "source": [
    "# Store the total number of values in a variable called `count_total`\n",
    "\n",
    "### YOUR CODE HERE ###\n",
    "# Calculate the total number of values in df_companies\n",
    "count_total = df.size\n",
    "\n",
    "# Display the result\n",
    "print(\"Total number of values in df_companies:\", count_total)"
   ]
  },
  {
   "cell_type": "markdown",
   "metadata": {},
   "source": [
    "Now, remove all rows containing missing values and store the total number of remaining values in a variable called `count_dropna_rows`."
   ]
  },
  {
   "cell_type": "code",
   "execution_count": 16,
   "metadata": {},
   "outputs": [
    {
     "name": "stdout",
     "output_type": "stream",
     "text": [
      "Original df_companies DataFrame:\n",
      "11814\n",
      "\n",
      "DataFrame after dropping rows with missing values (deleted_missing_values_row):\n",
      "          Company     Valuation Date Joined                         Industry  \\\n",
      "0       Bytedance  1.800000e+11  2017-04-07          Artificial intelligence   \n",
      "1          SpaceX  1.000000e+11  2012-12-01                            Other   \n",
      "2           SHEIN  1.000000e+11  2018-07-03  E-commerce & direct-to-consumer   \n",
      "3          Stripe  9.500000e+10  2014-01-23                          Fintech   \n",
      "4          Klarna  4.600000e+10  2011-12-12                          Fintech   \n",
      "...           ...           ...         ...                              ...   \n",
      "1069     Zhaogang  1.000000e+09  2017-06-29  E-commerce & direct-to-consumer   \n",
      "1070  Zhuan Zhuan  1.000000e+09  2017-04-18  E-commerce & direct-to-consumer   \n",
      "1071     Zihaiguo  1.000000e+09  2021-05-06                Consumer & retail   \n",
      "1072         Zopa  1.000000e+09  2021-10-19                          Fintech   \n",
      "1073        Zwift  1.000000e+09  2020-09-16  E-commerce & direct-to-consumer   \n",
      "\n",
      "               City  Country/Region      Continent  Year Founded Funding  \\\n",
      "0           Beijing           China           Asia          2012     $8B   \n",
      "1         Hawthorne   United States  North America          2002     $7B   \n",
      "2          Shenzhen           China           Asia          2008     $2B   \n",
      "3     San Francisco   United States  North America          2010     $2B   \n",
      "4         Stockholm          Sweden         Europe          2005     $4B   \n",
      "...             ...             ...            ...           ...     ...   \n",
      "1069       Shanghai           China           Asia          2012   $379M   \n",
      "1070        Beijing           China           Asia          2015   $990M   \n",
      "1071      Chongqing           China           Asia          2018    $80M   \n",
      "1072         London  United Kingdom         Europe          2005   $792M   \n",
      "1073     Long Beach   United States  North America          2014   $620M   \n",
      "\n",
      "                                       Select Investors  Year Joined  \n",
      "0     Sequoia Capital China, SIG Asia Investments, S...         2017  \n",
      "1     Founders Fund, Draper Fisher Jurvetson, Rothen...         2012  \n",
      "2     Tiger Global Management, Sequoia Capital China...         2018  \n",
      "3           Khosla Ventures, LowercaseCapital, capitalG         2014  \n",
      "4     Institutional Venture Partners, Sequoia Capita...         2011  \n",
      "...                                                 ...          ...  \n",
      "1069    K2 Ventures, Matrix Partners China, IDG Capital         2017  \n",
      "1070                           58.com, Tencent Holdings         2017  \n",
      "1071  Xingwang Investment Management, China Capital ...         2021  \n",
      "1072  IAG Capital Partners, Augmentum Fintech, North...         2021  \n",
      "1073    Novator Partners, True, Causeway Media Partners         2020  \n",
      "\n",
      "[1057 rows x 11 columns]\n",
      "\n",
      "Number of remaining values: 11627\n"
     ]
    }
   ],
   "source": [
    "# Drop the rows containing missing values, determine number of remaining values \n",
    "\n",
    "### YOUR CODE HERE ###\n",
    "# Drop the rows containing missing values\n",
    "deleted_missing_values_row = df.dropna()\n",
    "\n",
    "# Determine the number of remaining values\n",
    "remaining_values_count = deleted_missing_values_row.size\n",
    "\n",
    "# Display the results\n",
    "print(\"Original df_companies DataFrame:\")\n",
    "print(count_total)\n",
    "print(\"\\nDataFrame after dropping rows with missing values (deleted_missing_values_row):\")\n",
    "print(deleted_missing_values_row)\n",
    "print(\"\\nNumber of remaining values:\", remaining_values_count)"
   ]
  },
  {
   "cell_type": "markdown",
   "metadata": {
    "id": "M39xpV4BIXuC"
   },
   "source": [
    "<details>\n",
    "  <summary><h4><strong>Hint</strong></h4></summary>\n",
    "\n",
    "  Use the `dropna()` dataframe method to drop rows with missing values.\n",
    "\n",
    "</details>"
   ]
  },
  {
   "cell_type": "markdown",
   "metadata": {},
   "source": [
    "Now, remove all columns containing missing values and store the total number of cells in a variable called `count_dropna_columns`."
   ]
  },
  {
   "cell_type": "code",
   "execution_count": 17,
   "metadata": {},
   "outputs": [
    {
     "name": "stdout",
     "output_type": "stream",
     "text": [
      "\n",
      "Number of remaining values: 11627\n"
     ]
    }
   ],
   "source": [
    "# Drop the columns containing missing values, determine number of remaining values\n",
    "\n",
    "### YOUR CODE HERE ###\n",
    "print(\"\\nNumber of remaining values:\", remaining_values_count)"
   ]
  },
  {
   "cell_type": "markdown",
   "metadata": {},
   "source": [
    "<details>\n",
    "  <summary><h4><strong>Hint</strong></h4></summary>\n",
    "\n",
    "Specify `axis=1` to the `dropna()` method to drop columns with missing values.\n",
    "\n",
    "</details>"
   ]
  },
  {
   "cell_type": "markdown",
   "metadata": {},
   "source": [
    "Next, print the percentage of values removed by each method and compare them."
   ]
  },
  {
   "cell_type": "code",
   "execution_count": 19,
   "metadata": {},
   "outputs": [
    {
     "name": "stdout",
     "output_type": "stream",
     "text": [
      "\n",
      "DataFrame after dropping rows with missing values (deleted_missing_values_row):\n",
      "          Company     Valuation Date Joined                         Industry  \\\n",
      "0       Bytedance  1.800000e+11  2017-04-07          Artificial intelligence   \n",
      "1          SpaceX  1.000000e+11  2012-12-01                            Other   \n",
      "2           SHEIN  1.000000e+11  2018-07-03  E-commerce & direct-to-consumer   \n",
      "3          Stripe  9.500000e+10  2014-01-23                          Fintech   \n",
      "4          Klarna  4.600000e+10  2011-12-12                          Fintech   \n",
      "...           ...           ...         ...                              ...   \n",
      "1069     Zhaogang  1.000000e+09  2017-06-29  E-commerce & direct-to-consumer   \n",
      "1070  Zhuan Zhuan  1.000000e+09  2017-04-18  E-commerce & direct-to-consumer   \n",
      "1071     Zihaiguo  1.000000e+09  2021-05-06                Consumer & retail   \n",
      "1072         Zopa  1.000000e+09  2021-10-19                          Fintech   \n",
      "1073        Zwift  1.000000e+09  2020-09-16  E-commerce & direct-to-consumer   \n",
      "\n",
      "               City  Country/Region      Continent  Year Founded Funding  \\\n",
      "0           Beijing           China           Asia          2012     $8B   \n",
      "1         Hawthorne   United States  North America          2002     $7B   \n",
      "2          Shenzhen           China           Asia          2008     $2B   \n",
      "3     San Francisco   United States  North America          2010     $2B   \n",
      "4         Stockholm          Sweden         Europe          2005     $4B   \n",
      "...             ...             ...            ...           ...     ...   \n",
      "1069       Shanghai           China           Asia          2012   $379M   \n",
      "1070        Beijing           China           Asia          2015   $990M   \n",
      "1071      Chongqing           China           Asia          2018    $80M   \n",
      "1072         London  United Kingdom         Europe          2005   $792M   \n",
      "1073     Long Beach   United States  North America          2014   $620M   \n",
      "\n",
      "                                       Select Investors  Year Joined  \n",
      "0     Sequoia Capital China, SIG Asia Investments, S...         2017  \n",
      "1     Founders Fund, Draper Fisher Jurvetson, Rothen...         2012  \n",
      "2     Tiger Global Management, Sequoia Capital China...         2018  \n",
      "3           Khosla Ventures, LowercaseCapital, capitalG         2014  \n",
      "4     Institutional Venture Partners, Sequoia Capita...         2011  \n",
      "...                                                 ...          ...  \n",
      "1069    K2 Ventures, Matrix Partners China, IDG Capital         2017  \n",
      "1070                           58.com, Tencent Holdings         2017  \n",
      "1071  Xingwang Investment Management, China Capital ...         2021  \n",
      "1072  IAG Capital Partners, Augmentum Fintech, North...         2021  \n",
      "1073    Novator Partners, True, Causeway Media Partners         2020  \n",
      "\n",
      "[1057 rows x 11 columns]\n",
      "\n",
      "Total number of values in original DataFrame: 11814\n",
      "Number of remaining values: 11627\n",
      "Percentage of values removed: 1.58%\n"
     ]
    }
   ],
   "source": [
    "# Print the percentage of values removed by dropping rows.\n",
    "# Calculate the percentage of values removed\n",
    "# Calculate the number of values removed\n",
    "removed_values_count = count_total - remaining_values_count\n",
    "percentage_removed = (removed_values_count / count_total) * 100\n",
    "\n",
    "# Display the results\n",
    "print(\"\\nDataFrame after dropping rows with missing values (deleted_missing_values_row):\")\n",
    "print(deleted_missing_values_row)\n",
    "print(\"\\nTotal number of values in original DataFrame:\", count_total)\n",
    "print(\"Number of remaining values:\", remaining_values_count)\n",
    "print(f\"Percentage of values removed: {percentage_removed:.2f}%\")\n"
   ]
  },
  {
   "cell_type": "markdown",
   "metadata": {
    "id": "bb93f8fb"
   },
   "source": [
    "**Question: Which method was most effective? Why?**\n"
   ]
  },
  {
   "cell_type": "markdown",
   "metadata": {
    "id": "U4qVEZgBTGp9"
   },
   "source": [
    "[Write your response here. Double-click (or enter) to edit.]"
   ]
  },
  {
   "cell_type": "markdown",
   "metadata": {
    "id": "mho08fTcTMSq"
   },
   "source": [
    "Now, practice the second method: imputation. Perform the following steps:\n",
    "\n",
    "1. Use the [`fillna()`](https://pandas.pydata.org/docs/reference/api/pandas.DataFrame.fillna.html#pandas.DataFrame.fillna) dataframe method to fill each missing value with the next non-NaN value in its column. Assign the results to a new dataframe called `df_companies_backfill`.\n",
    "\n",
    "```\n",
    "Example:\n",
    "\n",
    "df =     \n",
    "        A    B    C\n",
    "    0   5    a    NaN\n",
    "    1   10   NaN  False\n",
    "    2   NaN  c    True\n",
    "\n",
    " [IN]: df.fillna(method='backfill')\n",
    " \n",
    "[OUT]: \n",
    "        A    B    C\n",
    "    0   5    a    False\n",
    "    1   10   c    False\n",
    "    2   NaN  c    True\n",
    "\n",
    "```\n",
    "\n",
    "Notice that if there is a `NaN` value in the last row, it will not backfill because there is no subsequent value in the column to refer to. \n",
    "\n",
    "2. Show the rows that previously had missing values."
   ]
  },
  {
   "cell_type": "code",
   "execution_count": 20,
   "metadata": {},
   "outputs": [
    {
     "name": "stdout",
     "output_type": "stream",
     "text": [
      "Original DataFrame:\n",
      "     Company     Valuation Date Joined                         Industry  \\\n",
      "0  Bytedance  1.800000e+11  2017-04-07          Artificial intelligence   \n",
      "1     SpaceX  1.000000e+11  2012-12-01                            Other   \n",
      "2      SHEIN  1.000000e+11  2018-07-03  E-commerce & direct-to-consumer   \n",
      "3     Stripe  9.500000e+10  2014-01-23                          Fintech   \n",
      "4     Klarna  4.600000e+10  2011-12-12                          Fintech   \n",
      "\n",
      "            City Country/Region      Continent  Year Founded Funding  \\\n",
      "0        Beijing          China           Asia          2012     $8B   \n",
      "1      Hawthorne  United States  North America          2002     $7B   \n",
      "2       Shenzhen          China           Asia          2008     $2B   \n",
      "3  San Francisco  United States  North America          2010     $2B   \n",
      "4      Stockholm         Sweden         Europe          2005     $4B   \n",
      "\n",
      "                                    Select Investors  Year Joined  \n",
      "0  Sequoia Capital China, SIG Asia Investments, S...         2017  \n",
      "1  Founders Fund, Draper Fisher Jurvetson, Rothen...         2012  \n",
      "2  Tiger Global Management, Sequoia Capital China...         2018  \n",
      "3        Khosla Ventures, LowercaseCapital, capitalG         2014  \n",
      "4  Institutional Venture Partners, Sequoia Capita...         2011  \n",
      "\n",
      "DataFrame after back-filling:\n",
      "     Company     Valuation Date Joined                         Industry  \\\n",
      "0  Bytedance  1.800000e+11  2017-04-07          Artificial intelligence   \n",
      "1     SpaceX  1.000000e+11  2012-12-01                            Other   \n",
      "2      SHEIN  1.000000e+11  2018-07-03  E-commerce & direct-to-consumer   \n",
      "3     Stripe  9.500000e+10  2014-01-23                          Fintech   \n",
      "4     Klarna  4.600000e+10  2011-12-12                          Fintech   \n",
      "\n",
      "            City Country/Region      Continent  Year Founded Funding  \\\n",
      "0        Beijing          China           Asia          2012     $8B   \n",
      "1      Hawthorne  United States  North America          2002     $7B   \n",
      "2       Shenzhen          China           Asia          2008     $2B   \n",
      "3  San Francisco  United States  North America          2010     $2B   \n",
      "4      Stockholm         Sweden         Europe          2005     $4B   \n",
      "\n",
      "                                    Select Investors  Year Joined  \n",
      "0  Sequoia Capital China, SIG Asia Investments, S...         2017  \n",
      "1  Founders Fund, Draper Fisher Jurvetson, Rothen...         2012  \n",
      "2  Tiger Global Management, Sequoia Capital China...         2018  \n",
      "3        Khosla Ventures, LowercaseCapital, capitalG         2014  \n",
      "4  Institutional Venture Partners, Sequoia Capita...         2011  \n",
      "\n",
      "Rows that previously had missing values (after filling):\n",
      "         Company     Valuation Date Joined                         Industry  \\\n",
      "12           FTX  3.200000e+10  2021-07-20                          Fintech   \n",
      "170    HyalRoute  4.000000e+09  2020-05-26      Mobile & telecommunications   \n",
      "242       Moglix  3.000000e+09  2021-05-17  E-commerce & direct-to-consumer   \n",
      "251         Trax  3.000000e+09  2019-07-22          Artificial intelligence   \n",
      "325  Amber Group  3.000000e+09  2021-06-21                          Fintech   \n",
      "\n",
      "              City Country/Region      Continent  Year Founded Funding  \\\n",
      "12    Jacksonville        Bahamas  North America          2018     $2B   \n",
      "170     El Segundo      Singapore           Asia          2015   $263M   \n",
      "242  San Francisco      Singapore           Asia          2015   $471M   \n",
      "251      Amsterdam      Singapore           Asia          2010     $1B   \n",
      "325  San Francisco      Hong Kong           Asia          2015   $328M   \n",
      "\n",
      "                                      Select Investors  Year Joined  \n",
      "12              Sequoia Capital, Thoma Bravo, Softbank         2021  \n",
      "170                                          Kuang-Chi         2020  \n",
      "242            Jungle Ventures, Accel, Venture Highway         2021  \n",
      "251  Hopu Investment Management, Boyu Capital, DC T...         2019  \n",
      "325  Tiger Global Management, Tiger Brokers, DCM Ve...         2021  \n"
     ]
    }
   ],
   "source": [
    "# 1. Fill missing values using the 'fillna()' method, back-filling\n",
    "# 2. Show the rows that previously had missing values\n",
    "# 1. Fill missing values using the 'fillna()' method, back-filling for df\n",
    "df_filled = df.fillna(method='bfill')\n",
    "\n",
    "# 2. Show the rows that previously had missing values\n",
    "# First, create a mask of rows that had missing values\n",
    "mask_missing = df.isna().any(axis=1)\n",
    "\n",
    "# Use this mask to select rows from the filled DataFrame\n",
    "rows_previously_missing = df_filled[mask_missing]\n",
    "\n",
    "# Display the results\n",
    "print(\"Original DataFrame:\")\n",
    "print(df.head(5))\n",
    "print(\"\\nDataFrame after back-filling:\")\n",
    "print(df_filled.head(5))\n",
    "print(\"\\nRows that previously had missing values (after filling):\")\n",
    "print(rows_previously_missing.head(5))"
   ]
  },
  {
   "cell_type": "markdown",
   "metadata": {},
   "source": [
    "<details>\n",
    "  <summary><h4><strong>Hint 1</strong></h4></summary>\n",
    "\n",
    "To backfill missing values, refer to the example provided.\n",
    "\n",
    "</details>"
   ]
  },
  {
   "cell_type": "markdown",
   "metadata": {},
   "source": [
    "<details>\n",
    "  <summary><h4><strong>Hint 2</strong></h4></summary>\n",
    "\n",
    "To show the rows that previously had missing values, you'll need the indices of the rows that had missing values.\n",
    "\n",
    "</details>"
   ]
  },
  {
   "cell_type": "markdown",
   "metadata": {},
   "source": [
    "<details>\n",
    "  <summary><h4><strong>Hint 3</strong></h4></summary>\n",
    "\n",
    "* You already have a dataframe of rows with missing values. It's stored in a variable called `df_missing_rows`.  \n",
    "* To access its index, call `df_missing_rows.index`. This will give you the row numbers of rows with missing values.  \n",
    "* Use these index numbers in an iloc[] selection statement on the `df_companies_backfill` dataframe to extract those row numbers.\n",
    "\n",
    "</details>"
   ]
  },
  {
   "cell_type": "markdown",
   "metadata": {},
   "source": [
    "**Question: Do the values that were used to fill in for the missing values make sense?**\n"
   ]
  },
  {
   "cell_type": "markdown",
   "metadata": {},
   "source": [
    "[Write your response here. Double-click (or enter) to edit.]"
   ]
  },
  {
   "cell_type": "markdown",
   "metadata": {},
   "source": [
    "Another option is to fill the values with a certain value, such as 'Unknown'. However, doing so doesn’t add any value to the dataset and could make finding the missing values difficult in the future. Reviewing the missing values in this dataset determines that it is fine to leave the values as they are. This also avoids adding bias to the dataset."
   ]
  },
  {
   "cell_type": "markdown",
   "metadata": {
    "id": "f09108ed"
   },
   "source": [
    "## Step 4: Results and evaluation"
   ]
  },
  {
   "cell_type": "markdown",
   "metadata": {
    "id": "2ff21c18"
   },
   "source": [
    "Now that you've addressed your missing values, provide your investor with their requested data points."
   ]
  },
  {
   "cell_type": "markdown",
   "metadata": {
    "id": "54438f3c"
   },
   "source": [
    "### Companies in the `Hardware` Industry\n",
    "\n",
    "Your investor is interested in identifying unicorn companies in the `Hardware` industry in the following cities: `Beijing`, `San Francisco`, and `London`. They are also interested in companies in the `Artificial intelligence` industry in `London`. \n",
    "\n",
    "Write a selection statement that extracts the rows that meet these criteria. This task requires complex conditional logic. Break the process into the following parts.\n",
    "\n",
    "1. Create a mask to apply to the `df_companies` dataframe. The following logic is a pseudo-code representation of how this mask could be structured.\n",
    "\n",
    "```\n",
    "((Industry==Hardware) and (City==Beijing, San Francisco, or London)) \n",
    "OR  \n",
    "((Industry==Artificial intelligence) and (City==London))\n",
    "```\n",
    "\n",
    "You're familiar with how to create Boolean masks based on conditional logic in pandas. However, you might not know how to write a conditional statement that selects rows that have _any one of several possible values_ in a given column. In this case, this is the `(City==Beijing, San Francisco, or London)` part of the expression.\n",
    "\n",
    "For this type of construction, use the [`isin()`](https://pandas.pydata.org/docs/reference/api/pandas.Series.isin.html#pandas.Series.isin) `Series` method. This method is applied to a pandas series and, for each value in the series, checks whether it is a member of whatever is passed as its argument.\n",
    "\n",
    "```\n",
    "Example:\n",
    "\n",
    " [IN]: my_series = pd.Series([0, 1, 2, 3])\n",
    "       my_series\n",
    "       \n",
    "[OUT]: 0    0\n",
    "       1    1\n",
    "       2    2\n",
    "       3    3\n",
    "       dtype: int64\n",
    "       \n",
    " [IN]: my_series.isin([1, 2])\n",
    "       \n",
    "[OUT]: 0    False\n",
    "       1     True\n",
    "       2     True\n",
    "       3    False\n",
    "       dtype: bool\n",
    "       \n",
    "```\n",
    "\n",
    "2. Apply the mask to the `df_companies` dataframe and assign the result to a new variable called `df_invest`."
   ]
  },
  {
   "cell_type": "code",
   "execution_count": 21,
   "metadata": {
    "id": "HTcm42EMIXuG"
   },
   "outputs": [],
   "source": [
    "# 1. Create a Boolean mask using conditional logic\n",
    "\n",
    "# Create a DataFrame from the list of companies\n",
    "df_companies = pd.DataFrame(df)\n",
    "\n",
    "# Define the conditions for the mask\n",
    "condition1 = (df_companies['Industry'] == 'Hardware') & (df_companies['City'].isin(['Beijing', 'San Francisco', 'London']))\n",
    "condition2 = (df_companies['Industry'] == 'Artificial intelligence') & (df_companies['City'] == 'London')\n",
    "\n",
    "# Combine the conditions using logical OR\n",
    "mask = condition1 | condition2\n",
    "\n",
    "\n",
    "# 2. Apply the mask to the `df_companies` dataframe and assign the results to `df_invest`\n",
    "\n",
    "# Apply the mask to the DataFrame\n",
    "df_invest = df_companies[mask]\n",
    "\n"
   ]
  },
  {
   "cell_type": "markdown",
   "metadata": {
    "id": "4Fg3RkBxIXuG"
   },
   "source": [
    "<details>\n",
    "  <summary><h4><strong>Hint 1</strong></h4></summary>\n",
    "\n",
    "  * Remember that pandas uses `&` for \"and\", `|` for \"or\", and `~` for \"not\". \n",
    "  * Remember that each condition needs to be in its own set of parentheses. Refer to the above pseudo-code for an example.\n",
    "\n",
    "</details>"
   ]
  },
  {
   "cell_type": "markdown",
   "metadata": {
    "id": "ih8_ZC34IXuG"
   },
   "source": [
    "<details>\n",
    "  <summary><h4><strong>Hint 2</strong></h4></summary>\n",
    "\n",
    "  * Use `(Series.isin(list_of_cities))` to represent the logic: (City==Beijing, San Francisco, or London)`.\n",
    "  * There are two sets of conditional pairs: ((A) and (B)) or ((C) and (D)). Make sure the parentheses reflect this logic.\n",
    "\n",
    "</details>"
   ]
  },
  {
   "cell_type": "markdown",
   "metadata": {},
   "source": [
    "<details>\n",
    "  <summary><h4><strong>Hint 3</strong></h4></summary>\n",
    "\n",
    "Consider using the following code:\n",
    "\n",
    "    ```\n",
    "    cities = ['Beijing', 'San Francisco', 'London']\n",
    "    mask = (\n",
    "        (df_companies['Industry']=='Hardware') & (df_companies['City'].isin(cities))\n",
    "    ) | (\n",
    "        (df_companies['Industry']=='Artificial intelligence') & (df_companies['City']=='London')\n",
    "    )\n",
    "    df_invest = df_companies[mask]\n",
    "    ```\n",
    "\n",
    "</details>"
   ]
  },
  {
   "cell_type": "markdown",
   "metadata": {},
   "source": [
    "**Question: How many companies meet the criteria given by the investor?**\n"
   ]
  },
  {
   "cell_type": "markdown",
   "metadata": {},
   "source": [
    "[Write your response here. Double-click (or enter) to edit.]"
   ]
  },
  {
   "cell_type": "markdown",
   "metadata": {
    "id": "5446b7aa"
   },
   "source": [
    "### List of countries by sum of valuation"
   ]
  },
  {
   "cell_type": "markdown",
   "metadata": {
    "id": "5606ef21"
   },
   "source": [
    "For each country, sum the valuations of all companies in that country, then sort the results in descending order by summed valuation. Assign the results to a variable called `national_valuations`."
   ]
  },
  {
   "cell_type": "code",
   "execution_count": 24,
   "metadata": {
    "id": "097dfa19"
   },
   "outputs": [
    {
     "name": "stdout",
     "output_type": "stream",
     "text": [
      "National Valuations sorted by summed valuation:\n",
      "Country/Region\n",
      "United States           1.933000e+12\n",
      "China                   6.960000e+11\n",
      "India                   1.960000e+11\n",
      "United Kingdom          1.950000e+11\n",
      "Germany                 7.200000e+10\n",
      "Sweden                  6.300000e+10\n",
      "Australia               5.600000e+10\n",
      "France                  5.500000e+10\n",
      "Canada                  4.900000e+10\n",
      "South Korea             4.100000e+10\n",
      "Israel                  3.900000e+10\n",
      "Brazil                  3.700000e+10\n",
      "Bahamas                 3.200000e+10\n",
      "Indonesia               2.800000e+10\n",
      "Singapore               2.100000e+10\n",
      "Netherlands             1.900000e+10\n",
      "Hong Kong               1.800000e+10\n",
      "Turkey                  1.600000e+10\n",
      "Mexico                  1.600000e+10\n",
      "Estonia                 1.300000e+10\n",
      "Finland                 1.200000e+10\n",
      "Ireland                 9.000000e+09\n",
      "Switzerland             8.000000e+09\n",
      "Japan                   8.000000e+09\n",
      "Belgium                 8.000000e+09\n",
      "Denmark                 7.000000e+09\n",
      "Austria                 7.000000e+09\n",
      "Colombia                6.000000e+09\n",
      "Norway                  5.000000e+09\n",
      "Vietnam                 5.000000e+09\n",
      "Lithuania               5.000000e+09\n",
      "United Arab Emirates    5.000000e+09\n",
      "Spain                   4.000000e+09\n",
      "Chile                   3.000000e+09\n",
      "Philippines             3.000000e+09\n",
      "South Africa            3.000000e+09\n",
      "Thailand                3.000000e+09\n",
      "Argentina               2.000000e+09\n",
      "Senegal                 2.000000e+09\n",
      "Nigeria                 2.000000e+09\n",
      "Malaysia                2.000000e+09\n",
      "Luxembourg              2.000000e+09\n",
      "Bermuda                 2.000000e+09\n",
      "Czech Republic          1.000000e+09\n",
      "Croatia                 1.000000e+09\n",
      "Italy                   1.000000e+09\n",
      "Name: Valuation, dtype: float64\n"
     ]
    }
   ],
   "source": [
    "# Group the data by`Country/Region`\n",
    "df.head(3)\n",
    "# Create a DataFrame from the list of companies\n",
    "df_companies = pd.DataFrame(df)\n",
    "\n",
    "# Function to convert valuation strings to numerical values\n",
    "def convert_valuation(val):\n",
    "    if isinstance(val, str):\n",
    "        if 'B' in val:\n",
    "            return float(val.replace('$', '').replace('B', '')) * 1e9\n",
    "        elif 'M' in val:\n",
    "            return float(val.replace('$', '').replace('M', '')) * 1e6\n",
    "        else:\n",
    "            return float(val.replace('$', ''))\n",
    "    elif isinstance(val, (int, float)):\n",
    "        return val\n",
    "    else:\n",
    "        return None  # or return a default value, or raise an error\n",
    "\n",
    "# Apply the conversion function to the 'Valuation' column\n",
    "df_companies['Valuation'] = df_companies['Valuation'].apply(convert_valuation)\n",
    "\n",
    "# Group by 'Country/Region' and sum the valuations\n",
    "national_valuations = df_companies.groupby('Country/Region')['Valuation'].sum()\n",
    "\n",
    "# Sort the results in descending order by summed valuation\n",
    "national_valuations = national_valuations.sort_values(ascending=False)\n",
    "\n",
    "# Display the results\n",
    "print(\"National Valuations sorted by summed valuation:\")\n",
    "print(national_valuations)"
   ]
  },
  {
   "cell_type": "markdown",
   "metadata": {
    "id": "K2cK-KYRIXuH"
   },
   "source": [
    "<details>\n",
    "  <summary><h4><strong>Hint</strong></h4></summary>\n",
    "\n",
    "  Use a `groupby()` statement to group by `Country/Region`, then isolate the `valuation_num` column, sum it, and use the `sort_values()` method to sort the results.\n",
    "\n",
    "</details>"
   ]
  },
  {
   "cell_type": "code",
   "execution_count": 25,
   "metadata": {},
   "outputs": [
    {
     "name": "stdout",
     "output_type": "stream",
     "text": [
      "\n",
      "Country with the highest valuation: United States\n"
     ]
    }
   ],
   "source": [
    "# Get the country with the highest valuation\n",
    "country_with_highest_valuation = national_valuations.idxmax()\n",
    "print(\"\\nCountry with the highest valuation:\", country_with_highest_valuation)"
   ]
  },
  {
   "cell_type": "markdown",
   "metadata": {
    "id": "ePL-Wvprcjiz"
   },
   "source": [
    "**Question: Which countries have the highest sum of valuation?**"
   ]
  },
  {
   "cell_type": "markdown",
   "metadata": {
    "id": "bwc5EGrPTk6U"
   },
   "source": [
    "[Write your response here. Double-click (or enter) to edit.]"
   ]
  },
  {
   "cell_type": "markdown",
   "metadata": {
    "id": "JM0yLhuXeXb4"
   },
   "source": [
    "### Filter out top 4 outlying countries"
   ]
  },
  {
   "cell_type": "markdown",
   "metadata": {},
   "source": [
    "Use this grouped and summed data to plot a barplot. However, to meet the needs of your stakeholder, you must first remove the United States, China, India, and the United Kingdom. Remove these countries from `national_valuations` and reassign the results to a variable called `national_valuations_no_big4`."
   ]
  },
  {
   "cell_type": "code",
   "execution_count": 29,
   "metadata": {
    "id": "94223263"
   },
   "outputs": [],
   "source": [
    "# Remove outlying countries\n",
    "\n",
    "### YOUR CODE HERE ###\n",
    "# Remove the specified countries\n",
    "countries_to_exclude = ['United States', 'China', 'India', 'United Kingdom']\n",
    "national_valuations_no_big4 = national_valuations[~national_valuations.index.isin(countries_to_exclude)]\n",
    "\n",
    "# Sort the results in descending order by summed valuation\n",
    "national_valuations_no_big4 = national_valuations_no_big4.sort_values(ascending=False)\n",
    "\n"
   ]
  },
  {
   "cell_type": "markdown",
   "metadata": {},
   "source": [
    "<details>\n",
    "  <summary><h4><strong>Hint</strong></h4></summary>\n",
    "\n",
    "There are a number of ways to accomplish this task. One of the easiest ways is to use a simple iloc[] selection statement to select row indices 4&ndash;end and all columns of `national_valuations`.\n",
    "</details>"
   ]
  },
  {
   "cell_type": "markdown",
   "metadata": {
    "id": "bb8e3be2"
   },
   "source": [
    "### BONUS CONTENT: Alternative approach (optional)\n",
    "\n",
    "You can also use `isin()` to create a Boolean mask to filter out specific values of the `Country/Region` column. In this case, this process is longer and more complicated than simply using the iloc[] statement. However, there will be situations where this is the most direct approach. \n",
    "    \n",
    "How could you use `isin()` and your knowledge of pandas conditional operators and Boolean masks to accomplish the same task?\n"
   ]
  },
  {
   "cell_type": "code",
   "execution_count": null,
   "metadata": {
    "id": "a782354c"
   },
   "outputs": [],
   "source": [
    "# (Optional) Use `isin()` to create a Boolean mask to accomplish the same task\n",
    "\n",
    "### YOUR CODE HERE ###"
   ]
  },
  {
   "cell_type": "markdown",
   "metadata": {
    "id": "fa5f245b"
   },
   "source": [
    "<details>\n",
    "  <summary><h4><strong>Answer</strong></h4></summary>\n",
    "\n",
    "In this case, there are 46 total countries and you want to keep countries 5&ndash;46 and filter out countries 1&ndash;4. To use `isin()` would require you to list out 42 countries: \n",
    "    \n",
    "```\n",
    "mask = national_valuations['Country/Region'].isin(['country_5', 'country_6', ... 'country_46'])\n",
    "```\n",
    "\n",
    "This is very impractical. However, you can invert the statement to simplify the job. The above impractical statement becomes:\n",
    "\n",
    "```\n",
    "mask = ~national_valuations['Country/Region'].isin(['country_1', 'country_2', 'country_3', 'country_4'])\n",
    "```\n",
    "\n",
    "Notice the `~` that precedes the whole statement. This transforms the meaning from \"country is in this list\" to \"country is NOT in this list.\"\n",
    "    \n",
    "Then, simply apply the mask to `national_valuations` and assign the result back to `national_valuations_no_big4`.\n",
    "</details>"
   ]
  },
  {
   "cell_type": "markdown",
   "metadata": {},
   "source": [
    "### Create barplot for top 20 non-big-4 countries"
   ]
  },
  {
   "cell_type": "markdown",
   "metadata": {},
   "source": [
    "Now, the data is ready to reveal the top 20 non-big-4 countries with the highest total company valuations. Use seaborn's [`barplot()`](https://seaborn.pydata.org/generated/seaborn.barplot.html) function to create a plot showing national valuation on one axis and country on the other."
   ]
  },
  {
   "cell_type": "code",
   "execution_count": null,
   "metadata": {
    "id": "4cd359c4"
   },
   "outputs": [],
   "source": [
    "# Create a barplot to compare the top 20 countries with highest company valuations.\n",
    "\n",
    "### YOUR CODE HERE ###\n",
    "\n",
    "# Show the plot.\n",
    "\n",
    "### YOUR CODE HERE ###"
   ]
  },
  {
   "cell_type": "markdown",
   "metadata": {
    "id": "oudhFpTQIXuI"
   },
   "source": [
    "<details>\n",
    "  <summary><h4><strong>Hint 1</strong></h4></summary>\n",
    "\n",
    "  Select the top 20 rows in `national_valuations_no_big4`.\n",
    "\n",
    "</details>"
   ]
  },
  {
   "cell_type": "markdown",
   "metadata": {
    "id": "_k_HjjF8IXuI"
   },
   "source": [
    "<details>\n",
    "  <summary><h4><strong>Hint 2</strong></h4></summary>\n",
    "\n",
    "* Select the top 20 rows in `df_companies_sum_outliers_removed` by using the `head(20)` method.\n",
    "* Specify `Country/Region` for the `x` parameter of the function and `valuation_num` for the `y` parameter of the function (or vice versa).\n",
    "\n",
    "</details>"
   ]
  },
  {
   "cell_type": "markdown",
   "metadata": {
    "id": "aca44e9f"
   },
   "source": [
    "### Plot maps"
   ]
  },
  {
   "cell_type": "markdown",
   "metadata": {
    "id": "6875df3e"
   },
   "source": [
    "Your investor has also asked for a global valuation map of all countries except `United States`, `China`, `India`, and `United Kingdom` (a.k.a. \"big-four countries\").\n",
    "\n",
    "You have learned about using [`scatter_geo()`](https://plotly.com/python-api-reference/generated/plotly.express.scatter_geo) from the `plotly.express` library to create plot data on a map. Create a `scatter_geo()` plot that depicts the total valuations of each non-big-four country on a world map, where each valuation is shown as a circle on the map, and the size of the circle is proportional to that country's summed valuation."
   ]
  },
  {
   "cell_type": "code",
   "execution_count": 30,
   "metadata": {
    "id": "c5089cf7"
   },
   "outputs": [
    {
     "data": {
      "image/png": "[encoded data removed]",
      "text/plain": [
       "<Figure size 720x432 with 1 Axes>"
      ]
     },
     "metadata": {
      "needs_background": "light"
     },
     "output_type": "display_data"
    },
    {
     "name": "stdout",
     "output_type": "stream",
     "text": [
      "National Valuations excluding USA, China, India, and UK:\n",
      "Country/Region\n",
      "Germany                 7.200000e+10\n",
      "Sweden                  6.300000e+10\n",
      "Australia               5.600000e+10\n",
      "France                  5.500000e+10\n",
      "Canada                  4.900000e+10\n",
      "South Korea             4.100000e+10\n",
      "Israel                  3.900000e+10\n",
      "Brazil                  3.700000e+10\n",
      "Bahamas                 3.200000e+10\n",
      "Indonesia               2.800000e+10\n",
      "Singapore               2.100000e+10\n",
      "Netherlands             1.900000e+10\n",
      "Hong Kong               1.800000e+10\n",
      "Turkey                  1.600000e+10\n",
      "Mexico                  1.600000e+10\n",
      "Estonia                 1.300000e+10\n",
      "Finland                 1.200000e+10\n",
      "Ireland                 9.000000e+09\n",
      "Switzerland             8.000000e+09\n",
      "Japan                   8.000000e+09\n",
      "Belgium                 8.000000e+09\n",
      "Austria                 7.000000e+09\n",
      "Denmark                 7.000000e+09\n",
      "Colombia                6.000000e+09\n",
      "Vietnam                 5.000000e+09\n",
      "Lithuania               5.000000e+09\n",
      "United Arab Emirates    5.000000e+09\n",
      "Norway                  5.000000e+09\n",
      "Spain                   4.000000e+09\n",
      "South Africa            3.000000e+09\n",
      "Thailand                3.000000e+09\n",
      "Philippines             3.000000e+09\n",
      "Chile                   3.000000e+09\n",
      "Argentina               2.000000e+09\n",
      "Senegal                 2.000000e+09\n",
      "Nigeria                 2.000000e+09\n",
      "Malaysia                2.000000e+09\n",
      "Luxembourg              2.000000e+09\n",
      "Bermuda                 2.000000e+09\n",
      "Czech Republic          1.000000e+09\n",
      "Croatia                 1.000000e+09\n",
      "Italy                   1.000000e+09\n",
      "Name: Valuation, dtype: float64\n"
     ]
    }
   ],
   "source": [
    "# Plot the bar plot\n",
    "plt.figure(figsize=(10, 6))\n",
    "national_valuations_no_big4.plot(kind='bar', color='skyblue', edgecolor='black')\n",
    "plt.title('Total Valuation by Country (Excluding USA, China, India, and UK)')\n",
    "plt.xlabel('Country/Region')\n",
    "plt.ylabel('Total Valuation ($)')\n",
    "plt.xticks(rotation=90)\n",
    "plt.tight_layout()\n",
    "plt.show()\n",
    "\n",
    "# Display the results\n",
    "print(\"National Valuations excluding USA, China, India, and UK:\")\n",
    "print(national_valuations_no_big4)"
   ]
  },
  {
   "cell_type": "markdown",
   "metadata": {
    "id": "f8ejKJ3FIXuJ"
   },
   "source": [
    "<details>\n",
    "  <summary><h4><strong>Hint 1</strong></h4></summary>\n",
    "\n",
    "Use the `national_valuations_no_big4` dataframe that you already created.\n",
    "\n",
    "</details>"
   ]
  },
  {
   "cell_type": "markdown",
   "metadata": {},
   "source": [
    "<details>\n",
    "  <summary><h4><strong>Hint 2</strong></h4></summary>\n",
    "\n",
    "To plot the data:\n",
    "* Use `national_valuations_no_big4` as the `data_frame` argument of the `scatter_geo()` function.\n",
    "* Use `'Country/Region'` as the `locations` argument.\n",
    "* Use `'country names'` as the `locationmode` argument.\n",
    "* Use `'Country/Region'` as the `color` argument.\n",
    "\n",
    "Don't forget to include a title!\n",
    "</details>"
   ]
  },
  {
   "cell_type": "markdown",
   "metadata": {},
   "source": [
    "**Question: How is the valuation sum per country visualized in the plot?**\n"
   ]
  },
  {
   "cell_type": "markdown",
   "metadata": {},
   "source": [
    "[Write your response here. Double-click (or enter) to edit.]"
   ]
  },
  {
   "cell_type": "markdown",
   "metadata": {},
   "source": [
    "**Question: Does any region stand out as having a lot of activity?**\n"
   ]
  },
  {
   "cell_type": "markdown",
   "metadata": {},
   "source": [
    "[Write your response here. Double-click (or enter) to edit.]"
   ]
  },
  {
   "cell_type": "markdown",
   "metadata": {
    "id": "c77e7f0f-d2b9-4464-8a7c-9575d1e1ef9f"
   },
   "source": [
    "## Conclusion\n",
    "\n",
    "**What are some key takeaways that you learned during this lab?**\n",
    "\n",
    "[Write your response here. Double-click (or enter) to edit.]\n",
    "\n",
    "**How would you present your findings from this lab to others? Consider the information you would provide (and what you would omit), how you would share the various data insights, and how data visualizations could help your presentation.**\n",
    "\n",
    "[Write your response here. Double-click (or enter) to edit.]\n",
    "\n",
    "\n"
   ]
  },
  {
   "cell_type": "markdown",
   "metadata": {
    "id": "R9sAADZgr-YI"
   },
   "source": [
    "**Reference**\n",
    "\n",
    "[Bhat, M.A. *Unicorn Companies*](https://www.kaggle.com/datasets/mysarahmadbhat/unicorn-companies)\n",
    "\n"
   ]
  },
  {
   "cell_type": "markdown",
   "metadata": {},
   "source": [
    "**Congratulations!** You've completed this lab. However, you may not notice a green check mark next to this item on Coursera's platform. Please continue your progress regardless of the check mark. Just click on the \"save\" icon at the top of this notebook to ensure your work has been logged."
   ]
  }
 ],
 "metadata": {
  "colab": {
   "collapsed_sections": [],
   "provenance": [
    {
     "file_id": "1D-SVQBZbnniSdt931Vd2drfvP_D0FNCC",
     "timestamp": 1661469989747
    },
    {
     "file_id": "1OZW8XgxaFvstKFchHbudTfA5IVDxThz0",
     "timestamp": 1661403750705
    }
   ],
   "toc_visible": true
  },
  "kernelspec": {
   "display_name": "Python 3",
   "language": "python",
   "name": "python3"
  },
  "language_info": {
   "codemirror_mode": {
    "name": "ipython",
    "version": 3
   },
   "file_extension": ".py",
   "mimetype": "text/x-python",
   "name": "python",
   "nbconvert_exporter": "python",
   "pygments_lexer": "ipython3",
   "version": "3.7.6"
  },
  "toc-autonumbering": false,
  "toc-showtags": false,
  "vscode": {
   "interpreter": {
    "hash": "58544ced29f0d0ccc90b78766d7e805897dc369e996e4fcba52aba46a973bc61"
   }
  }
 },
 "nbformat": 4,
 "nbformat_minor": 5
}
