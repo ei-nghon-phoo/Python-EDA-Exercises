{
 "cells": [
  {
   "cell_type": "markdown",
   "id": "3f6c2bfd-2eda-478e-b451-cf2445d450a1",
   "metadata": {},
   "source": [
    "### 3 Types of outliers\n",
    "- Global (values that are completely different from the overall data group and have no association with any other outliers) \n",
    "- Contextual (Normal data points under certain conditions but become anomalies under most other conditions)\n",
    "- Collective (group of abnormal points that follow similar patterns and are isolated from the rest of the population)"
   ]
  },
  {
   "cell_type": "markdown",
   "id": "2c16cc81-4005-4462-a51e-d2bd82a3e9eb",
   "metadata": {},
   "source": [
    "### Way of finding out about outliers\n",
    "- through visualization\n",
    "\n",
    "### Ethical mindset\n",
    "- Models have lives beyond code blocks and data strings.\n",
    "-   Data science needs regulatory complianc.-     Customers should choose how their data is u\n",
    "\n",
    "### Handling outliers\n",
    "- **Delete them**: If you are sure the outliers are mistakes, typos, or errors and the dataset will be used for modeling or machine learning, then you are more likely to decide to delete outliers. Of the three choices, you’ll use this one the least.\n",
    "  \n",
    "-\r",
    "**  Reassign th** em: If the dataset is small and/or the data will be used for modeling or machine learning, you are more likely to choose a path of deriving new values to replace the outlier values \n",
    "-\r",
    "**    Leave ** them: For a dataset that you plan to do EDA/analysis on and nothing else, or for a dataset you are preparing for a model that is resistant to outliers, it is most likely that you are going to leave them\n",
    "\n",
    "### Label encoding or one-hot encoding: How to decide? \n",
    "\n",
    "- Use label encoding when:\n",
    "  - There are a large number of different categorical variables — because label encoding uses far less data than one-hot encoding\n",
    "  - The categorical values have a particular order to them (for example, age groups can be grouped as youngest to oldest or oldest to youngest)\n",
    "  - You plan to use a decision tree or random forest machine learning model\n",
    "\n",
    "- Use one-hot encoding when: \n",
    "  - There is a relatively small amount of categorical variables — because one-hot encoding uses much more data than label encoding\n",
    "  - The categorical variables have no particular order\n",
    "  - You use a machine learning model in combination with dimensionality reduction (like Principal Component Analysis (PCA))\n",
    "nalysis (PCA)) in.sed."
   ]
  },
  {
   "cell_type": "code",
   "execution_count": 3,
   "id": "d2d28271-79c9-4224-ad47-e97507225294",
   "metadata": {},
   "outputs": [
    {
     "name": "stdout",
     "output_type": "stream",
     "text": [
      "   C    A_a    A_b    B_a    B_b    B_c\n",
      "0  1   True  False  False   True  False\n",
      "1  2  False   True   True  False  False\n",
      "2  3   True  False  False  False   True\n"
     ]
    }
   ],
   "source": [
    "import pandas as pd\n",
    "\n",
    "# Sample DataFrame\n",
    "df = pd.DataFrame({\n",
    "    'A': ['a', 'b', 'a'],\n",
    "    'B': ['b', 'a', 'c'],\n",
    "    'C': [1, 2, 3]\n",
    "})\n",
    "\n",
    "# Convert categorical variables into dummy variables\n",
    "df_dummies = pd.get_dummies(df, columns=['A', 'B'])\n",
    "\n",
    "print(df_dummies)\n"
   ]
  },
  {
   "cell_type": "code",
   "execution_count": null,
   "id": "1fb36343-85fe-4172-9283-709fd3719547",
   "metadata": {},
   "outputs": [],
   "source": []
  }
 ],
 "metadata": {
  "kernelspec": {
   "display_name": "Python 3 (ipykernel)",
   "language": "python",
   "name": "python3"
  },
  "language_info": {
   "codemirror_mode": {
    "name": "ipython",
    "version": 3
   },
   "file_extension": ".py",
   "mimetype": "text/x-python",
   "name": "python",
   "nbconvert_exporter": "python",
   "pygments_lexer": "ipython3",
   "version": "3.12.4"
  }
 },
 "nbformat": 4,
 "nbformat_minor": 5
}
